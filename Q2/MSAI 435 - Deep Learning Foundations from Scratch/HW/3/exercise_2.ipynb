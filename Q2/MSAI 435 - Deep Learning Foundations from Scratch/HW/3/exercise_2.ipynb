{
 "cells": [
  {
   "cell_type": "markdown",
   "metadata": {},
   "source": [
    "# Deep learning from scratch: homework 3"
   ]
  },
  {
   "cell_type": "markdown",
   "metadata": {},
   "source": [
    "### General instructions\n",
    "\n",
    "Complete the exercises listed below in this Jupyter notebook - leaving all of your code in Python cells in the notebook itself.  Feel free to add any necessary cells.  \n",
    "\n",
    "Included with the notebook are \n",
    "\n",
    "- a custom utilities file called `custom_utils.py` that provides various plotting functionalities (for unit tests to help you debug) as well as some other processing code\n",
    "\n",
    "\n",
    "- datasets for exercises: `unnorm_linregress_data.csv`, `highdim_multirange_linregress.csv`, `student_debt.csv`, and  `noisy_sin_sample.csv`\n",
    "\n",
    "be sure you have these files located in the same directory where you put this notebook to work!"
   ]
  },
  {
   "cell_type": "markdown",
   "metadata": {},
   "source": [
    "### When submitting this homework:\n",
    "    \n",
    "**Make sure all output is present in your notebook prior to submission**"
   ]
  },
  {
   "cell_type": "code",
   "execution_count": 77,
   "metadata": {},
   "outputs": [
    {
     "name": "stdout",
     "output_type": "stream",
     "text": [
      "The autoreload extension is already loaded. To reload it, use:\n",
      "  %reload_ext autoreload\n"
     ]
    }
   ],
   "source": [
    "# import autograd functionality\n",
    "import autograd.numpy as np\n",
    "from autograd.misc.flatten import flatten_func\n",
    "from autograd import grad as compute_grad   \n",
    "\n",
    "# import custom utilities\n",
    "import custom_utilities as util\n",
    "\n",
    "# import various other libraries\n",
    "import copy\n",
    "import matplotlib.pyplot as plt\n",
    "\n",
    "# this is needed to compensate for %matplotl+ib notebook's tendancy to blow up images when plotted inline\n",
    "from matplotlib import rcParams\n",
    "rcParams['figure.autolayout'] = True\n",
    "\n",
    "# %matplotlib notebook\n",
    "%load_ext autoreload\n",
    "%autoreload 2"
   ]
  },
  {
   "cell_type": "markdown",
   "metadata": {},
   "source": [
    "Feel free to use the following ``gradient_descent`` function below for this exercise."
   ]
  },
  {
   "cell_type": "code",
   "execution_count": 78,
   "metadata": {},
   "outputs": [],
   "source": [
    "# gradient descent function\n",
    "def gradient_descent(g,w,alpha,max_its,beta,version):    \n",
    "    # flatten the input function, create gradient based on flat function\n",
    "    g_flat, unflatten, w = flatten_func(g, w)\n",
    "    grad = compute_grad(g_flat)\n",
    "\n",
    "    # record history\n",
    "    w_hist = []\n",
    "    w_hist.append(unflatten(w))\n",
    "\n",
    "    # start gradient descent loop\n",
    "    z = np.zeros((np.shape(w)))      # momentum term\n",
    "    \n",
    "    # over the line\n",
    "    for k in range(max_its):   \n",
    "        # plug in value into func and derivative\n",
    "        grad_eval = grad(w)\n",
    "        grad_eval.shape = np.shape(w)\n",
    "\n",
    "        ### normalized or unnormalized descent step? ###\n",
    "        if version == 'normalized':\n",
    "            grad_norm = np.linalg.norm(grad_eval)\n",
    "            if grad_norm == 0:\n",
    "                grad_norm += 10**-6*np.sign(2*np.random.rand(1) - 1)\n",
    "            grad_eval /= grad_norm\n",
    "            \n",
    "        # take descent step with momentum\n",
    "        z = beta*z + grad_eval\n",
    "        w = w - alpha*z\n",
    "\n",
    "        # record weight update\n",
    "        w_hist.append(unflatten(w))\n",
    "\n",
    "    return w_hist"
   ]
  },
  {
   "cell_type": "markdown",
   "metadata": {},
   "source": [
    "#### <span style=\"color:#a50e3e;\">Exercise 2. </span>  Normalizing the input of a student debt dataset"
   ]
  },
  {
   "cell_type": "markdown",
   "metadata": {},
   "source": [
    "The cell below loads in and visualizes a student debt dataset.  Here the input is in increments of time, and the output is the corresponding total amount of student debt held in the United States."
   ]
  },
  {
   "cell_type": "code",
   "execution_count": 79,
   "metadata": {},
   "outputs": [
    {
     "name": "stderr",
     "output_type": "stream",
     "text": [
      "/Users/ikhlas/anaconda3/lib/python3.6/site-packages/matplotlib/figure.py:2267: UserWarning: This figure includes Axes that are not compatible with tight_layout, so results might be incorrect.\n",
      "  warnings.warn(\"This figure includes Axes that are not compatible \"\n"
     ]
    },
    {
     "data": {
      "image/png": "[encoded data removed]",
      "text/plain": [
       "<Figure size 432x216 with 1 Axes>"
      ]
     },
     "metadata": {},
     "output_type": "display_data"
    }
   ],
   "source": [
    "# load data\n",
    "data = np.loadtxt('student_debt.csv',delimiter = ',')\n",
    "x = data[:,:-1]\n",
    "y = data[:,-1:]\n",
    "\n",
    "# make copy of input and output (for later)\n",
    "x_orig = copy.deepcopy(x)\n",
    "y_orig = copy.deepcopy(y)\n",
    "\n",
    "# plot everything\n",
    "demo = util.Visualizer()\n",
    "demo.plot_data_fit(x,y)"
   ]
  },
  {
   "cell_type": "markdown",
   "metadata": {},
   "source": [
    "**TO DO**\n",
    "\n",
    "Compare the performance of gradient descent in tuning the Least Squares cost function on this dataset when you use the raw dataset versus when you normalize the input.  Use only $25$ iterations of gradient descent in each instance, and in each instance use the largest steplength value $\\alpha$ of the form $10^{-\\gamma}$ (where $\\gamma$ is a positive integer) that produces convergence.  Use an initial point $\\mathbf{w}^0 = \\begin{bmatrix} 0 \\\\ 0 \\end{bmatrix}$.\n",
    "\n",
    "**You should turn in:**\n",
    "    \n",
    "**1)** a contour plot in each instance with gradient descent path drawn on top (as shown in ``Exercise 1``\n",
    "\n",
    "\n",
    "**2)** a cost function plot for each run of gradient descent\n",
    "\n",
    "\n",
    "\n",
    "**3)** a short explanation summarizing what input normalization has done in this instance in terms of speeding up gradient descent\n",
    "\n",
    "**Hint:**\n",
    "\n",
    "Feel free to steal useful code chunks from the previous exercise!"
   ]
  },
  {
   "cell_type": "code",
   "execution_count": 80,
   "metadata": {},
   "outputs": [
    {
     "name": "stderr",
     "output_type": "stream",
     "text": [
      "/Users/ikhlas/anaconda3/lib/python3.6/site-packages/matplotlib/figure.py:2267: UserWarning: This figure includes Axes that are not compatible with tight_layout, so results might be incorrect.\n",
      "  warnings.warn(\"This figure includes Axes that are not compatible \"\n"
     ]
    },
    {
     "data": {
      "image/png": "[encoded data removed]",
      "text/plain": [
       "<Figure size 720x288 with 3 Axes>"
      ]
     },
     "metadata": {},
     "output_type": "display_data"
    }
   ],
   "source": [
    "# make our predict function\n",
    "def predict(x,w):\n",
    "    return w[0] + x*w[1]\n",
    "\n",
    "# least squares\n",
    "least_squares = lambda w: np.sum((predict(x,w) - y)**2)\n",
    "\n",
    "# run gradient descent initialized at 0\n",
    "alpha = 10**(-9)\n",
    "max_its = 25\n",
    "w_init = np.zeros((2,1))\n",
    "\n",
    "# run gradient descent\n",
    "weight_history = gradient_descent(least_squares,\n",
    "                                  w_init,\n",
    "                                  alpha,\n",
    "                                  max_its,\n",
    "                                  beta = 0,\n",
    "                                  version = 'unnormalized')\n",
    "\n",
    "# plot history on contours\n",
    "demo.draw_setup(least_squares,\n",
    "                num_contours = 7,\n",
    "                weight_history = weight_history,\n",
    "                xmin = -.0005,\n",
    "                xmax = .0003,\n",
    "                ymin = -.0001,\n",
    "                ymax = .0004)"
   ]
  },
  {
   "cell_type": "code",
   "execution_count": 81,
   "metadata": {},
   "outputs": [
    {
     "name": "stderr",
     "output_type": "stream",
     "text": [
      "/Users/ikhlas/anaconda3/lib/python3.6/site-packages/matplotlib/figure.py:2267: UserWarning: This figure includes Axes that are not compatible with tight_layout, so results might be incorrect.\n",
      "  warnings.warn(\"This figure includes Axes that are not compatible \"\n"
     ]
    },
    {
     "data": {
      "image/png": "[encoded data removed]",
      "text/plain": [
       "<Figure size 504x216 with 1 Axes>"
      ]
     },
     "metadata": {},
     "output_type": "display_data"
    },
    {
     "name": "stdout",
     "output_type": "stream",
     "text": [
      "Minima of cost function: 2.1428126608250246\n"
     ]
    }
   ],
   "source": [
    "# plot cost function history\n",
    "cost_history = [least_squares(v) for v in weight_history]\n",
    "histories = [cost_history]\n",
    "demo.compare_regression_histories(histories)\n",
    "print(\"Minima of cost function: \" + str(np.min(cost_history)))"
   ]
  },
  {
   "cell_type": "code",
   "execution_count": 82,
   "metadata": {},
   "outputs": [
    {
     "name": "stderr",
     "output_type": "stream",
     "text": [
      "/Users/ikhlas/anaconda3/lib/python3.6/site-packages/matplotlib/figure.py:2267: UserWarning: This figure includes Axes that are not compatible with tight_layout, so results might be incorrect.\n",
      "  warnings.warn(\"This figure includes Axes that are not compatible \"\n"
     ]
    },
    {
     "data": {
      "image/png": "[encoded data removed]",
      "text/plain": [
       "<Figure size 720x288 with 3 Axes>"
      ]
     },
     "metadata": {},
     "output_type": "display_data"
    }
   ],
   "source": [
    "# compute the mean and standard deviation of the input\n",
    "x_mean = np.mean(x)\n",
    "x_std = np.std(x)\n",
    "\n",
    "# a normalization function \n",
    "def normalize(data,data_mean,data_std):\n",
    "    normalized_data = (data - data_mean)/data_std\n",
    "    return normalized_data\n",
    "\n",
    "# cache a copy of the original input, then normalize\n",
    "x_orig = copy.deepcopy(x)\n",
    "x = normalize(x,x_mean,x_std)\n",
    "\n",
    "# run gradient descent initialized at 0\n",
    "alpha = 10**(-3)\n",
    "max_its = 25\n",
    "w_init = np.zeros((2,1))\n",
    "\n",
    "# run gradient descent\n",
    "weight_history = gradient_descent(least_squares,\n",
    "                                  w_init,\n",
    "                                  alpha,\n",
    "                                  max_its,\n",
    "                                  beta = 0,\n",
    "                                  version = 'unnormalized')\n",
    "\n",
    "# # show contour plot\n",
    "# demo.draw_setup(least_squares,num_contours = 7,\n",
    "#                 xmin = -1,\n",
    "#                 xmax = 10,\n",
    "#                 ymin = -1,\n",
    "#                 ymax = 7)\n",
    "\n",
    "# plot history on contours\n",
    "demo.draw_setup(least_squares,\n",
    "                num_contours = 7,\n",
    "                weight_history = weight_history,\n",
    "                xmin = -.2,\n",
    "                xmax = 1,\n",
    "                ymin = -.2,\n",
    "                ymax = .4)\n"
   ]
  },
  {
   "cell_type": "markdown",
   "metadata": {},
   "source": [
    "Summary of what input normalization has done w.r.t. speeding up gradient descent:"
   ]
  },
  {
   "cell_type": "markdown",
   "metadata": {},
   "source": [
    "We can see that the contours have changed from horizontally long, and narrow-shaped to circular. Without normalization, it wouldn't change very much, but cost has dramatically decreased per iteration. As w1 (slope) and w0 (bias) are treated with more equivalence, more uniform gradient descent steps are taken. As we're looking for the lowest value on the loss function surface (minima), we choose to move away from looking at long, narrow-shaped 'valleys'."
   ]
  },
  {
   "cell_type": "code",
   "execution_count": null,
   "metadata": {},
   "outputs": [],
   "source": []
  }
 ],
 "metadata": {
  "kernelspec": {
   "display_name": "Python 3",
   "language": "python",
   "name": "python3"
  },
  "language_info": {
   "codemirror_mode": {
    "name": "ipython",
    "version": 3
   },
   "file_extension": ".py",
   "mimetype": "text/x-python",
   "name": "python",
   "nbconvert_exporter": "python",
   "pygments_lexer": "ipython3",
   "version": "3.6.8"
  },
  "toc": {
   "colors": {
    "hover_highlight": "#DAA520",
    "navigate_num": "#000000",
    "navigate_text": "#333333",
    "running_highlight": "#FF0000",
    "selected_highlight": "#FFD700",
    "sidebar_border": "#EEEEEE",
    "wrapper_background": "#FFFFFF"
   },
   "moveMenuLeft": true,
   "nav_menu": {
    "height": "103px",
    "width": "252px"
   },
   "navigate_menu": true,
   "number_sections": false,
   "sideBar": true,
   "threshold": 4,
   "toc_cell": false,
   "toc_section_display": "block",
   "toc_window_display": false,
   "widenNotebook": false
  },
  "widgets": {
   "application/vnd.jupyter.widget-state+json": {
    "state": {},
    "version_major": 1,
    "version_minor": 0
   }
  }
 },
 "nbformat": 4,
 "nbformat_minor": 2
}
