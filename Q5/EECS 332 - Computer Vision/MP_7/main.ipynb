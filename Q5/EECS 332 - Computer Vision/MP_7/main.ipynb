{
 "cells": [
  {
   "cell_type": "code",
   "execution_count": 11,
   "metadata": {},
   "outputs": [],
   "source": [
    "import numpy as np\n",
    "import pandas as pd\n",
    "import matplotlib.pyplot as plt\n",
    "import cv2\n",
    "import os\n",
    "\n",
    "from PIL import Image, ImageDraw"
   ]
  },
  {
   "cell_type": "code",
   "execution_count": 12,
   "metadata": {},
   "outputs": [],
   "source": [
    "pics = {}\n",
    "for i in range(1,501):\n",
    "    pics[i] = 'image_girl/0' + \"{0:0=3d}\".format(i) + '.jpg'"
   ]
  },
  {
   "cell_type": "code",
   "execution_count": 22,
   "metadata": {},
   "outputs": [
    {
     "ename": "ValueError",
     "evalue": "operands could not be broadcast together with shapes (2,4) (3,2) ",
     "output_type": "error",
     "traceback": [
      "\u001b[0;31m---------------------------------------------------------------------------\u001b[0m",
      "\u001b[0;31mValueError\u001b[0m                                Traceback (most recent call last)",
      "\u001b[0;32m<ipython-input-22-db0839af9fc4>\u001b[0m in \u001b[0;36m<module>\u001b[0;34m()\u001b[0m\n\u001b[1;32m      4\u001b[0m      \u001b[0;34m[\u001b[0m\u001b[0;36m4\u001b[0m\u001b[0;34m,\u001b[0m\u001b[0;36m4\u001b[0m\u001b[0;34m]\u001b[0m\u001b[0;34m,\u001b[0m\u001b[0;34m\u001b[0m\u001b[0;34m\u001b[0m\u001b[0m\n\u001b[1;32m      5\u001b[0m      [5,5]]\n\u001b[0;32m----> 6\u001b[0;31m \u001b[0mnp\u001b[0m\u001b[0;34m.\u001b[0m\u001b[0masarray\u001b[0m\u001b[0;34m(\u001b[0m\u001b[0ma\u001b[0m\u001b[0;34m)\u001b[0m \u001b[0;34m*\u001b[0m \u001b[0mnp\u001b[0m\u001b[0;34m.\u001b[0m\u001b[0masarray\u001b[0m\u001b[0;34m(\u001b[0m\u001b[0mb\u001b[0m\u001b[0;34m)\u001b[0m\u001b[0;34m\u001b[0m\u001b[0;34m\u001b[0m\u001b[0m\n\u001b[0m",
      "\u001b[0;31mValueError\u001b[0m: operands could not be broadcast together with shapes (2,4) (3,2) "
     ]
    }
   ],
   "source": [
    "a = [[1,1,1,1],\n",
    "     [2,2,2,2]]\n",
    "b = [[3,3],\n",
    "     [4,4],\n",
    "     [5,5]]\n",
    "np.asarray(a) * np.asarray(b)"
   ]
  },
  {
   "cell_type": "code",
   "execution_count": 13,
   "metadata": {},
   "outputs": [],
   "source": [
    "def exhaustive(next_image, window_size):\n",
    "    \"\"\" EXHAUSTIVELY SEARCHES EACH WINDOW GIVEN A SIZE WITHIN AN IMAGE \"\"\"\n",
    "    temp0 = window_size[0]\n",
    "    temp1 = window_size[1]\n",
    "    window_size = (temp1, temp0)\n",
    "    next_image = np.asarray(next_image)\n",
    "    all_windows = []\n",
    "    for y in range(0, next_image.shape[0]):\n",
    "        for x in range(0, next_image.shape[1]):\n",
    "            wind = next_image[y:y+window_size[1], x:x+window_size[0]]\n",
    "            if wind.shape[0] == window_size[1] and wind.shape[1] == window_size[0]:\n",
    "                all_windows.append((y,x,wind))\n",
    "    return all_windows\n",
    "\n",
    "# def ssd1(next_image, last_template):\n",
    "#     # D = sum(u,v)(I(u,v) - T(u,v))^2\n",
    "#     img_arr = np.asarray(next_image)\n",
    "#     templ_arr = np.asarray(last_template)\n",
    "#     shaped = templ_arr.shape\n",
    "#     D = np.lib.stride_tricks.as_strided(img_arr,\n",
    "#                                         shape=(img_arr.shape[0] - shaped[0] + 1,\n",
    "#                                                img_arr.shape[1] - shaped[1] + 1) + shaped,\n",
    "#                                         strides=img_arr.strides * 2)\n",
    "#     ssd = np.einsum('ijkl,kl->ij', D, templ_arr)\n",
    "#     ssd *= - 2\n",
    "#     ssd += np.einsum('ijkl, ijkl->ij', D, D)\n",
    "#     ssd += np.einsum('ij, ij', templ_arr, templ_arr)\n",
    "#     return ssd\n",
    "\n",
    "def SSD(next_image, last_template):\n",
    "    \"\"\" CALCUALTE SSD BETWEEN WINDOW AND TEMPLATE \"\"\"\n",
    "    next_image = np.asarray(next_image)\n",
    "    last_template = np.asarray(last_template)\n",
    "    ssd = np.sum((next_image - last_template)**2)\n",
    "    return ssd\n",
    "\n",
    "def CC(next_image, last_template):\n",
    "    \"\"\" CALCUALTE CC BETWEEN WINDOW AND TEMPLATE \"\"\"\n",
    "    next_image = np.asarray(next_image)\n",
    "    last_template = np.asarray(last_template)\n",
    "    cc = np.sum(next_image * last_template)\n",
    "    return cc\n",
    "\n",
    "def NCC(next_image, last_template):\n",
    "    \"\"\" CALCUALTE NORMALIZED CC BETWEEN WINDOW AND TEMPLATE \"\"\"\n",
    "    next_image = np.asarray(next_image)\n",
    "    last_template = np.asarray(last_template)\n",
    "    \n",
    "    I_hat = next_image - np.mean(next_image)\n",
    "    T_hat = last_template - np.mean(last_template)\n",
    "    numerator = np.sum(I_hat * T_hat)\n",
    "    denominator = (np.sum(I_hat**2) * np.sum(T_hat**2))**.5\n",
    "    ncc = numerator/denominator\n",
    "    return ncc"
   ]
  },
  {
   "cell_type": "code",
   "execution_count": 14,
   "metadata": {},
   "outputs": [],
   "source": [
    "def return_imgs(num, fn, coord_start=(19,52), box_size=(50,40), templ=None):\n",
    "    \"\"\" SAVES AN IMAGE WITH A BOUNDARY BOX AROUND THE BEST MATCH\n",
    "        TO THE GIVEN TEMPLATE IN AN IMAGE\n",
    "    \"\"\"\n",
    "    im = Image.open(pics[num])\n",
    "    name = fn.__name__\n",
    "    \n",
    "    # 50 tall, 40 wide\n",
    "    yD = box_size[0]\n",
    "    xD = box_size[1]\n",
    "    ySt = coord_start[0]\n",
    "    xSt = coord_start[1]\n",
    "    if templ == None:\n",
    "        templ = Image.fromarray(np.asarray(Image.open(pics[1]))[ySt:ySt+yD,xSt:xSt+xD,:])\n",
    "    height,width = [np.asarray(templ).shape[i] for i in [0,1]]\n",
    "    \n",
    "    all_exhaustive = {}\n",
    "    for each in exhaustive(im, (yD,xD)):\n",
    "    #     all_exhaustive[each[0:2]] = \n",
    "        all_exhaustive[fn(each[-1], templ)] = each[0:2]\n",
    "    #     all_exhaustive.append((each[0:2], ssd2(each[-1], templ)))\n",
    "    # for i in sorted(all_exhaustive):\n",
    "    #     print((i, all_exhaustive[i]))\n",
    "    lowest_exhaustive = sorted(all_exhaustive)[0]\n",
    "    highest_exhaustive = sorted(all_exhaustive)[-1]\n",
    "    if name == 'SSD' or name == 'CC':\n",
    "        start_coord = all_exhaustive[lowest_exhaustive]\n",
    "    elif name == 'NCC':\n",
    "        start_coord = all_exhaustive[highest_exhaustive]\n",
    "    y,x = start_coord\n",
    "    # lowest_exhaustive = np.where(total == sorted(total)[0])[0][0]\n",
    "\n",
    "    # match = Image.fromarray(exhaustive(im1,(50,40))[lowest_exhaustive])\n",
    "    # match\n",
    "\n",
    "    top_l = (x,y)\n",
    "    top_r = (x+xD,y)\n",
    "    bot_r = (x+xD,y+yD)\n",
    "    bot_l = (x,y+yD)\n",
    "    ImageDraw.Draw(im).line([top_l, top_r, bot_r, bot_l, top_l], fill=(255,100,180), width=3)\n",
    "    \n",
    "    path = 'RESULTS/' + name + '_imgs/0' + \"{0:0=3d}\".format(num) + '.jpg'\n",
    "    im = im.save(path)\n",
    "    return im"
   ]
  },
  {
   "cell_type": "code",
   "execution_count": 15,
   "metadata": {},
   "outputs": [],
   "source": [
    "def vid(folder_name):\n",
    "    \"\"\" STITCHES IMAGES TOGETHER INTO A VIDEO \"\"\"\n",
    "    img_array = []\n",
    "    for i in range(1,501):\n",
    "        filename = 'RESULTS/' + folder_name + '_imgs/0' + \"{0:0=3d}\".format(i) + '.jpg'\n",
    "        img = cv2.imread(filename)\n",
    "        height, width, layers = img.shape\n",
    "        size = (width,height)\n",
    "        img_array.append(img)\n",
    "    out = cv2.VideoWriter('RESULTS/VIDEOS/' + folder_name + '.mp4', cv2.VideoWriter_fourcc(*'DIVX'), 15, size)\n",
    "    for i in range(len(img_array)):\n",
    "        out.write(img_array[i])\n",
    "    out.release()"
   ]
  },
  {
   "cell_type": "code",
   "execution_count": 21,
   "metadata": {},
   "outputs": [],
   "source": [
    "# return_imgs() for SSD\n",
    "for i in range(1,501):\n",
    "    return_imgs(i, SSD)\n",
    "\n",
    "# vid() for SSD\n",
    "vid('SSD')"
   ]
  },
  {
   "cell_type": "code",
   "execution_count": 22,
   "metadata": {},
   "outputs": [],
   "source": [
    "# return_imgs() for CC\n",
    "for i in range(1,501):\n",
    "    return_imgs(i, CC)\n",
    "\n",
    "# vid() for CC\n",
    "vid('CC')"
   ]
  },
  {
   "cell_type": "code",
   "execution_count": 23,
   "metadata": {},
   "outputs": [],
   "source": [
    "# return_imgs() for NCC\n",
    "for i in range(1,501):\n",
    "    return_imgs(i, NCC)\n",
    "\n",
    "# vid() for NCC\n",
    "vid('NCC')"
   ]
  },
  {
   "cell_type": "code",
   "execution_count": null,
   "metadata": {},
   "outputs": [],
   "source": []
  },
  {
   "cell_type": "code",
   "execution_count": null,
   "metadata": {},
   "outputs": [],
   "source": []
  },
  {
   "cell_type": "code",
   "execution_count": null,
   "metadata": {},
   "outputs": [],
   "source": []
  }
 ],
 "metadata": {
  "kernelspec": {
   "display_name": "Python 3",
   "language": "python",
   "name": "python3"
  },
  "language_info": {
   "codemirror_mode": {
    "name": "ipython",
    "version": 3
   },
   "file_extension": ".py",
   "mimetype": "text/x-python",
   "name": "python",
   "nbconvert_exporter": "python",
   "pygments_lexer": "ipython3",
   "version": "3.6.8"
  }
 },
 "nbformat": 4,
 "nbformat_minor": 2
}
