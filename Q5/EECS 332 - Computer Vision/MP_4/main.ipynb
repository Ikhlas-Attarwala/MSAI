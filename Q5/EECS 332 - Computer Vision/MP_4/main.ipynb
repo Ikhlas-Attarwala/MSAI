{
 "cells": [
  {
   "cell_type": "code",
   "execution_count": 20,
   "metadata": {},
   "outputs": [],
   "source": [
    "import numpy as np\n",
    "import matplotlib.pyplot as plt\n",
    "import math\n",
    "from scipy.stats import gaussian_kde\n",
    "from PIL import Image"
   ]
  },
  {
   "cell_type": "code",
   "execution_count": 2,
   "metadata": {},
   "outputs": [],
   "source": [
    "# FUNCTION DEFINITIONS\n",
    "\n",
    "def cr(num,l,r,t,b,):\n",
    "    img = Image.open('mp4_images/' + str(num) + '.jpg')\n",
    "#     img = cv2.imshow('mp4_images/' + str(num) + '.jpg')\n",
    "    w,h = img.size\n",
    "    img = img.crop((l,t,r,b))\n",
    "    return img\n",
    "\n",
    "im1 = cr(1,370,620,350,800)\n",
    "im2 = cr(2,380,620,350,790)\n",
    "im3 = cr(3,400,660,380,810)\n",
    "im4 = cr(4,370,610,380,790)\n",
    "im5 = cr(5,370,640,440,620)\n",
    "im6 = cr(6,370,640,430,590)\n",
    "im7 = cr(7,400,600,400,750)\n",
    "im8 = cr(8,440,650,400,750)\n",
    "im9 = cr(9,380,620,360,560)\n",
    "im10 = cr(10,340,595,400,620)\n",
    "im11 = cr(11,370,670,530,830)\n",
    "im12 = cr(12,360,650,520,830)\n",
    "im13 = cr(13,380,640,720,820)\n",
    "im14 = cr(14,355,655,780,900)\n",
    "im15 = cr(15,340,670,540,960)\n",
    "im16 = cr(16,350,680,520,980)\n",
    "im17 = cr(17,330,640,520,940)\n",
    "im18 = cr(18,330,640,520,940)\n",
    "im19 = cr(19,350,650,500,880)\n",
    "im20 = cr(20,350,650,470,880)\n",
    "\n",
    "im21 = cr(21,320,650,500,680)\n",
    "im22 = cr(22,320,650,490,670)\n",
    "im23 = cr(23,300,700,500,720)\n",
    "im24 = cr(24,300,700,500,720)\n",
    "im25 = cr(25,400,600,300,400)\n",
    "im26 = cr(26,360,560,300,400)\n",
    "im27 = cr(27,380,650,420,600)\n",
    "im28 = cr(28,380,650,400,580)\n",
    "im29 = cr(29,370,640,500,770)\n",
    "im30 = cr(30,370,625,500,770)\n",
    "im31 = cr(31,360,650,490,840)\n",
    "im32 = cr(32,360,650,460,820)\n",
    "im33 = cr(33,380,690,535,860)\n",
    "im34 = cr(34,345,660,500,880)\n",
    "im35 = cr(35,340,630,500,940)\n",
    "im36 = cr(36,340,630,480,940)\n",
    "im37 = cr(37,320,670,680,930)\n",
    "im38 = cr(38,320,660,610,860)\n",
    "im39 = cr(39,320,680,540,630)\n",
    "im40 = cr(40,320,690,520,620)\n",
    "\n",
    "crop_dict = {}\n",
    "for each in range(1,41):\n",
    "    crop_dict['im' + str(each)] = eval('im' + str(each))"
   ]
  },
  {
   "cell_type": "code",
   "execution_count": 3,
   "metadata": {},
   "outputs": [],
   "source": [
    "def rgb_merge(image):\n",
    "    rgb = []\n",
    "    x = np.asarray(image)\n",
    "    for i in range(0, image.height):\n",
    "        for j in range(0, image.width):\n",
    "            z = x[i][j].tolist()\n",
    "            rgb.append(z)\n",
    "    return rgb\n",
    "\n",
    "def nRGB_merge(image):\n",
    "    nRGB = []\n",
    "    for each in rgb_merge(image):\n",
    "        r,g,b = each\n",
    "        if r == 0.0 and g == 0.0 and b == 0.0:\n",
    "            R,G,B = r,g,b\n",
    "        else:\n",
    "            s = r + g + b\n",
    "            R = r/s\n",
    "            G = g/s\n",
    "            B = b/s\n",
    "        nRGB.append([R,G,B])\n",
    "    return nRGB\n",
    "\n",
    "def hsi_merge(image):\n",
    "    hsi = []\n",
    "    for each in rgb_merge(image):\n",
    "        r,g,b = each\n",
    "        if r == 0.0 and g == 0.0 and b == 0.0:\n",
    "            H,S,I = r,g,b\n",
    "        else:\n",
    "            I = (r + g + b)/3\n",
    "            num = (r-g)+(r-b)\n",
    "            den = 2*(math.sqrt((r-g)**2+(r-b)*(g-b)))\n",
    "            try:\n",
    "                H = math.acos(num/den)\n",
    "            except:\n",
    "                H = 0\n",
    "            try:\n",
    "                S = 1 - 3*min(r,g,b)/I\n",
    "            except:\n",
    "                S = 0\n",
    "        hsi.append([H*100,S*100,I*100])\n",
    "    return hsi\n",
    "\n",
    "def dict_merge1(func):\n",
    "    \"\"\"rgb_merge, nRGB_merge, hsi_merge\"\"\"\n",
    "    d = {}\n",
    "    for each_im in range(1,41):\n",
    "        for each in func(crop_dict['im' + str(each_im)]):\n",
    "            d[(my_round(each[0]), my_round(each[1]))] = d.get((my_round(each[0]), my_round(each[1])), 0) + 1\n",
    "    return d\n",
    "\n",
    "def dict_merge2(func):\n",
    "    \"\"\"rgb_merge, nRGB_merge, hsi_merge\"\"\"\n",
    "    d = {}\n",
    "    for each_im in range(1,41):\n",
    "        for each in func(crop_dict['im' + str(each_im)]):\n",
    "            d[(round(each[0], 1), round(each[1], 1), round(each[2], 1))] = d.get((round(each[0], 1), round(each[1], 1), round(each[2], 1)), 0) + 1\n",
    "    return d\n",
    "\n",
    "def dict_merge3(func):\n",
    "    \"\"\"rgb_merge, nRGB_merge, hsi_merge\"\"\"\n",
    "    d = {}\n",
    "    for each_im in range(1,41):\n",
    "        for each in func(crop_dict['im' + str(each_im)]):\n",
    "            d[(round(each[0], 1), round(each[1], 1))] = d.get((round(each[0], 1), round(each[1], 1)), 0) + 1\n",
    "    return d\n",
    "\n",
    "def d_percentage(dic1):\n",
    "    d_perc = {}\n",
    "    organized = sorted(dic1, key=dic1.get, reverse=True)\n",
    "    to_sum = []\n",
    "    sum_d = sum([*dic1.values()])\n",
    "    lis1 = []\n",
    "    for each in organized:\n",
    "        lis1.append([each, dic1[each], dic1[each]/sum_d])\n",
    "    return lis1\n",
    "\n",
    "def my_round(x, base=25):\n",
    "    return base * round(x/base)\n",
    "\n",
    "def normalize_res(arr):\n",
    "    \"\"\"Values between 0 and 255 for image processing\"\"\"\n",
    "    sensitivity = 255 * (arr - arr.min())\n",
    "    arr = sensitivity / (arr.max() - arr.min())\n",
    "    arr = arr.astype('uint8')\n",
    "    return arr"
   ]
  },
  {
   "cell_type": "code",
   "execution_count": 4,
   "metadata": {},
   "outputs": [],
   "source": [
    "d_rgb = dict_merge1(rgb_merge)"
   ]
  },
  {
   "cell_type": "code",
   "execution_count": 5,
   "metadata": {},
   "outputs": [],
   "source": [
    "d_rgb_top = []\n",
    "for each in d_percentage(d_rgb):\n",
    "    if each[2] > .02:\n",
    "        d_rgb_top.append(each[0])"
   ]
  },
  {
   "cell_type": "code",
   "execution_count": 6,
   "metadata": {},
   "outputs": [],
   "source": [
    "d_nrgb = dict_merge1(nRGB_merge)"
   ]
  },
  {
   "cell_type": "code",
   "execution_count": 7,
   "metadata": {},
   "outputs": [],
   "source": [
    "d_nrgb_top = []\n",
    "for each in d_percentage(d_nrgb):\n",
    "    if each[2] > .05:\n",
    "        d_nrgb_top.append(each[0])"
   ]
  },
  {
   "cell_type": "code",
   "execution_count": 8,
   "metadata": {},
   "outputs": [],
   "source": [
    "d_hsi = dict_merge1(hsi_merge)"
   ]
  },
  {
   "cell_type": "code",
   "execution_count": 9,
   "metadata": {},
   "outputs": [],
   "source": [
    "d_hsi_top = []\n",
    "for each in d_percentage(d_hsi):\n",
    "    if each[2] > .01:\n",
    "        d_hsi_top.append(each[0])"
   ]
  },
  {
   "cell_type": "code",
   "execution_count": 10,
   "metadata": {},
   "outputs": [],
   "source": [
    "def final_test(file_name, color_space):\n",
    "    img = Image.open(file_name)\n",
    "    img_np = np.asarray(img)\n",
    "    \n",
    "    x = []\n",
    "    y = 0\n",
    "    if color_space.lower() == 'rgb':\n",
    "        x = []\n",
    "        for each in rgb_merge(img):\n",
    "            if (my_round(each[0]), my_round(each[1])) in d_rgb_top:\n",
    "                x.append(each)\n",
    "            else:\n",
    "                x.append([0,0,0])\n",
    "        x = np.reshape(x,img_np.shape).astype('uint8')\n",
    "        y = 1\n",
    "    elif color_space.lower() == 'nrgb' or color_space.lower() == 'n-rgb':\n",
    "        x = []\n",
    "        for each in nRGB_merge(img):\n",
    "            if (my_round(each[0]), my_round(each[1])) in d_rgb_top:\n",
    "                x.append(each)\n",
    "            else:\n",
    "                x.append([0,0,0])\n",
    "        x = np.reshape(x,img_np.shape).astype('uint8')\n",
    "        y = 2\n",
    "    elif color_space.lower() == 'hsi':\n",
    "        x = []\n",
    "        for each in hsi_merge(img):\n",
    "            if (my_round(each[0]), my_round(each[1])) in d_hsi_top:\n",
    "                x.append(each)\n",
    "            else:\n",
    "                x.append([0,0,0])\n",
    "        x = np.reshape(x,img_np.shape).astype('uint8')\n",
    "        y = 3\n",
    "    return Image.fromarray(x)"
   ]
  },
  {
   "cell_type": "code",
   "execution_count": 11,
   "metadata": {},
   "outputs": [
    {
     "data": {
      "image/png": "[encoded data removed]",
      "text/plain": [
       "<PIL.Image.Image image mode=RGB size=160x120 at 0x1090E1358>"
      ]
     },
     "execution_count": 11,
     "metadata": {},
     "output_type": "execute_result"
    }
   ],
   "source": [
    "final_test('gun1.bmp', 'rgb')"
   ]
  },
  {
   "cell_type": "code",
   "execution_count": 12,
   "metadata": {},
   "outputs": [
    {
     "data": {
      "image/png": "[encoded data removed]",
      "text/plain": [
       "<PIL.Image.Image image mode=RGB size=160x120 at 0x1090E1320>"
      ]
     },
     "execution_count": 12,
     "metadata": {},
     "output_type": "execute_result"
    }
   ],
   "source": [
    "final_test('joy1.bmp', 'rgb')"
   ]
  },
  {
   "cell_type": "code",
   "execution_count": 13,
   "metadata": {},
   "outputs": [
    {
     "data": {
      "image/png": "[encoded data removed]",
      "text/plain": [
       "<PIL.Image.Image image mode=RGB size=160x120 at 0x1090E14A8>"
      ]
     },
     "execution_count": 13,
     "metadata": {},
     "output_type": "execute_result"
    }
   ],
   "source": [
    "final_test('pointer1.bmp', 'rgb')"
   ]
  },
  {
   "cell_type": "code",
   "execution_count": 14,
   "metadata": {},
   "outputs": [],
   "source": [
    "def hist2dgraph(string):\n",
    "    \n",
    "    color_space = []\n",
    "    for each_im in range(1,41):\n",
    "        if string == 'rgb':\n",
    "            for each in rgb_merge(crop_dict['im' + str(each_im)]):\n",
    "                color_space.append(each)\n",
    "            plt.xlabel('Red')\n",
    "            plt.ylabel('Green')\n",
    "        elif string == 'nrgb' or string == 'n-rgb':\n",
    "            for each in nRGB_merge(crop_dict['im' + str(each_im)]):\n",
    "                color_space.append(each)\n",
    "            plt.xlabel('Red')\n",
    "            plt.ylabel('Green')\n",
    "        elif string == 'hsi':\n",
    "            for each in hsi_merge(crop_dict['im' + str(each_im)]):\n",
    "                color_space.append(each)\n",
    "            plt.xlabel('H')\n",
    "            plt.ylabel('S')\n",
    "    a = []\n",
    "    b = []\n",
    "    for each in color_space:\n",
    "        a.append(each[0])\n",
    "        b.append(each[1])\n",
    "    # a,b = np.random.multivariate_normal([0,0], [[1,1],[1,2]], 10000).T\n",
    "    plt.hist2d(a,b,bins=30,cmap='Reds')\n",
    "    cb = plt.colorbar()"
   ]
  },
  {
   "cell_type": "code",
   "execution_count": 15,
   "metadata": {},
   "outputs": [
    {
     "data": {
      "image/png": "[encoded data removed]",
      "text/plain": [
       "<Figure size 432x288 with 2 Axes>"
      ]
     },
     "metadata": {},
     "output_type": "display_data"
    }
   ],
   "source": [
    "hist2dgraph('rgb')"
   ]
  },
  {
   "cell_type": "code",
   "execution_count": 16,
   "metadata": {},
   "outputs": [
    {
     "data": {
      "image/png": "[encoded data removed]",
      "text/plain": [
       "<Figure size 432x288 with 2 Axes>"
      ]
     },
     "metadata": {},
     "output_type": "display_data"
    }
   ],
   "source": [
    "hist2dgraph('nrgb')"
   ]
  },
  {
   "cell_type": "code",
   "execution_count": 17,
   "metadata": {},
   "outputs": [
    {
     "data": {
      "image/png": "[encoded data removed]",
      "text/plain": [
       "<Figure size 432x288 with 2 Axes>"
      ]
     },
     "metadata": {},
     "output_type": "display_data"
    }
   ],
   "source": [
    "hist2dgraph('hsi')"
   ]
  },
  {
   "cell_type": "code",
   "execution_count": 25,
   "metadata": {},
   "outputs": [],
   "source": [
    "def gaussian(string):\n",
    "    \n",
    "    color_space = []\n",
    "    for each_im in range(1,41):\n",
    "        if string == 'rgb':\n",
    "            for each in rgb_merge(crop_dict['im' + str(each_im)]):\n",
    "                color_space.append(each)\n",
    "            plt.xlabel('Red')\n",
    "            plt.ylabel('Green')\n",
    "        elif string == 'nrgb' or string == 'n-rgb':\n",
    "            for each in nRGB_merge(crop_dict['im' + str(each_im)]):\n",
    "                color_space.append(each)\n",
    "            plt.xlabel('Red')\n",
    "            plt.ylabel('Green')\n",
    "        elif string == 'hsi':\n",
    "            for each in hsi_merge(crop_dict['im' + str(each_im)]):\n",
    "                color_space.append(each)\n",
    "            plt.xlabel('H')\n",
    "            plt.ylabel('S')\n",
    "    a = []\n",
    "    b = []\n",
    "    for each in color_space:\n",
    "        a.append(each[0])\n",
    "        b.append(each[1])\n",
    "    \n",
    "    data = np.vstack([a, b])\n",
    "    kde = gaussian_kde(data)\n",
    "    X, Y = np.meshgrid(np.linspace(0, 255, 40), np.linspace(0, 255, 40))\n",
    "    Z = kde.evaluate(np.vstack([X.ravel(), Y.ravel()]))\n",
    "    plt.imshow(Z.reshape(X.shape), origin='lower', aspect='auto', extent=[0, 255, 0, 255], cmap='Blues')\n",
    "    cb = plt.colorbar()\n",
    "    cb.set_label(\"density\")"
   ]
  },
  {
   "cell_type": "code",
   "execution_count": 26,
   "metadata": {},
   "outputs": [
    {
     "data": {
      "image/png": "[encoded data removed]",
      "text/plain": [
       "<Figure size 432x288 with 2 Axes>"
      ]
     },
     "metadata": {},
     "output_type": "display_data"
    }
   ],
   "source": [
    "gaussian('rgb')"
   ]
  },
  {
   "cell_type": "code",
   "execution_count": null,
   "metadata": {},
   "outputs": [],
   "source": []
  },
  {
   "cell_type": "code",
   "execution_count": null,
   "metadata": {},
   "outputs": [],
   "source": []
  }
 ],
 "metadata": {
  "kernelspec": {
   "display_name": "Python 3",
   "language": "python",
   "name": "python3"
  },
  "language_info": {
   "codemirror_mode": {
    "name": "ipython",
    "version": 3
   },
   "file_extension": ".py",
   "mimetype": "text/x-python",
   "name": "python",
   "nbconvert_exporter": "python",
   "pygments_lexer": "ipython3",
   "version": "3.6.8"
  }
 },
 "nbformat": 4,
 "nbformat_minor": 2
}
