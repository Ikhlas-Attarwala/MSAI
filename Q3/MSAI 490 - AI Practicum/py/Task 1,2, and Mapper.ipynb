{
 "cells": [
  {
   "cell_type": "code",
   "execution_count": 3,
   "metadata": {
    "scrolled": true
   },
   "outputs": [],
   "source": [
    "import csv\n",
    "import pandas as pd\n",
    "import numpy as np\n",
    "import matplotlib.patches as mpatches\n",
    "import matplotlib.pyplot as plt\n",
    "import matplotlib.cm as cm\n",
    "from matplotlib.colors import ListedColormap, BoundaryNorm\n",
    "import matplotlib.patches as mpatches\n",
    "import time\n",
    "from os import walk\n",
    "import itertools\n",
    "from itertools import chain\n",
    "%matplotlib inline\n",
    "from operator import add\n",
    "\n",
    "import statistics\n",
    "from statistics import mean\n",
    "import math\n",
    "from pprint import pprint\n",
    "from nltk import *\n",
    "\n",
    "import seaborn as sns\n",
    "from sklearn.model_selection import train_test_split\n",
    "from sklearn.preprocessing import MinMaxScaler\n",
    "\n",
    "from sklearn.multiclass import OneVsRestClassifier\n",
    "from sklearn.preprocessing import LabelBinarizer\n",
    "\n",
    "import warnings\n",
    "warnings.filterwarnings(\"ignore\")"
   ]
  },
  {
   "cell_type": "code",
   "execution_count": 4,
   "metadata": {},
   "outputs": [],
   "source": [
    "# read all .csv files\n",
    "# --- 0.02096700668334961 seconds ---\n",
    "games_cols = ['gameId', 'homeTeamAbbr', 'visitorTeamAbbr', 'homeDisplayName', 'visitorDisplayName']\n",
    "games = pd.read_csv('../gits/Big-Data-Bowl/Data/games.csv', usecols=games_cols)\n",
    "\n",
    "players_cols = ['nflId', 'FirstName', 'LastName', 'PositionAbbr']\n",
    "players = pd.read_csv('../gits/Big-Data-Bowl/Data/players.csv', usecols=players_cols)\n",
    "\n",
    "plays_cols = ['gameId', 'playId', 'quarter', 'yardsToGo', 'possessionTeam', 'yardlineSide', 'yardlineNumber', 'offenseFormation', 'personnel.offense']\n",
    "plays = pd.read_csv('../gits/Big-Data-Bowl/Data/plays.csv', usecols=plays_cols)"
   ]
  },
  {
   "cell_type": "code",
   "execution_count": 5,
   "metadata": {},
   "outputs": [],
   "source": [
    "# read each game file\n",
    "# --- 28.45746684074402 seconds ---\n",
    "gameX_cols = ['x', 'y', 'event','nflId', 'displayName', 'team', 'gameId', 'playId']\n",
    "gameX_files = []\n",
    "# create 1 giant list of all game files\n",
    "for (dirpath, dirnames, filenames) in walk('../gits/Big-Data-Bowl/Data_Tracking/'):\n",
    "    gameX_files.extend(filenames)\n",
    "gameX_files = sorted(gameX_files)\n",
    "\n",
    "game = {}\n",
    "# label it game[i], for example game[0] is a dataframe of the first game\n",
    "for i, each in enumerate(gameX_files):\n",
    "    game[i] = pd.read_csv('../gits/Big-Data-Bowl/Data_Tracking/'+str(each), usecols=gameX_cols)"
   ]
  },
  {
   "cell_type": "markdown",
   "metadata": {},
   "source": [
    "# GAMES"
   ]
  },
  {
   "cell_type": "code",
   "execution_count": 6,
   "metadata": {
    "scrolled": true
   },
   "outputs": [
    {
     "data": {
      "text/html": [
       "<div>\n",
       "<style scoped>\n",
       "    .dataframe tbody tr th:only-of-type {\n",
       "        vertical-align: middle;\n",
       "    }\n",
       "\n",
       "    .dataframe tbody tr th {\n",
       "        vertical-align: top;\n",
       "    }\n",
       "\n",
       "    .dataframe thead th {\n",
       "        text-align: right;\n",
       "    }\n",
       "</style>\n",
       "<table border=\"1\" class=\"dataframe\">\n",
       "  <thead>\n",
       "    <tr style=\"text-align: right;\">\n",
       "      <th></th>\n",
       "      <th>gameId</th>\n",
       "      <th>homeTeamAbbr</th>\n",
       "      <th>visitorTeamAbbr</th>\n",
       "      <th>homeDisplayName</th>\n",
       "      <th>visitorDisplayName</th>\n",
       "    </tr>\n",
       "  </thead>\n",
       "  <tbody>\n",
       "    <tr>\n",
       "      <th>0</th>\n",
       "      <td>2017091004</td>\n",
       "      <td>DET</td>\n",
       "      <td>ARI</td>\n",
       "      <td>Detroit Lions</td>\n",
       "      <td>Arizona Cardinals</td>\n",
       "    </tr>\n",
       "    <tr>\n",
       "      <th>1</th>\n",
       "      <td>2017090700</td>\n",
       "      <td>NE</td>\n",
       "      <td>KC</td>\n",
       "      <td>New England Patriots</td>\n",
       "      <td>Kansas City Chiefs</td>\n",
       "    </tr>\n",
       "    <tr>\n",
       "      <th>2</th>\n",
       "      <td>2017091003</td>\n",
       "      <td>CLE</td>\n",
       "      <td>PIT</td>\n",
       "      <td>Cleveland Browns</td>\n",
       "      <td>Pittsburgh Steelers</td>\n",
       "    </tr>\n",
       "    <tr>\n",
       "      <th>3</th>\n",
       "      <td>2017091002</td>\n",
       "      <td>CIN</td>\n",
       "      <td>BAL</td>\n",
       "      <td>Cincinnati Bengals</td>\n",
       "      <td>Baltimore Ravens</td>\n",
       "    </tr>\n",
       "    <tr>\n",
       "      <th>4</th>\n",
       "      <td>2017091000</td>\n",
       "      <td>BUF</td>\n",
       "      <td>NYJ</td>\n",
       "      <td>Buffalo Bills</td>\n",
       "      <td>New York Jets</td>\n",
       "    </tr>\n",
       "  </tbody>\n",
       "</table>\n",
       "</div>"
      ],
      "text/plain": [
       "       gameId homeTeamAbbr visitorTeamAbbr       homeDisplayName  \\\n",
       "0  2017091004          DET             ARI         Detroit Lions   \n",
       "1  2017090700           NE              KC  New England Patriots   \n",
       "2  2017091003          CLE             PIT      Cleveland Browns   \n",
       "3  2017091002          CIN             BAL    Cincinnati Bengals   \n",
       "4  2017091000          BUF             NYJ         Buffalo Bills   \n",
       "\n",
       "    visitorDisplayName  \n",
       "0    Arizona Cardinals  \n",
       "1   Kansas City Chiefs  \n",
       "2  Pittsburgh Steelers  \n",
       "3     Baltimore Ravens  \n",
       "4        New York Jets  "
      ]
     },
     "execution_count": 6,
     "metadata": {},
     "output_type": "execute_result"
    }
   ],
   "source": [
    "games.head()"
   ]
  },
  {
   "cell_type": "markdown",
   "metadata": {},
   "source": [
    "# PLAYERS"
   ]
  },
  {
   "cell_type": "code",
   "execution_count": 7,
   "metadata": {},
   "outputs": [
    {
     "data": {
      "text/html": [
       "<div>\n",
       "<style scoped>\n",
       "    .dataframe tbody tr th:only-of-type {\n",
       "        vertical-align: middle;\n",
       "    }\n",
       "\n",
       "    .dataframe tbody tr th {\n",
       "        vertical-align: top;\n",
       "    }\n",
       "\n",
       "    .dataframe thead th {\n",
       "        text-align: right;\n",
       "    }\n",
       "</style>\n",
       "<table border=\"1\" class=\"dataframe\">\n",
       "  <thead>\n",
       "    <tr style=\"text-align: right;\">\n",
       "      <th></th>\n",
       "      <th>nflId</th>\n",
       "      <th>FirstName</th>\n",
       "      <th>LastName</th>\n",
       "      <th>PositionAbbr</th>\n",
       "    </tr>\n",
       "  </thead>\n",
       "  <tbody>\n",
       "    <tr>\n",
       "      <th>0</th>\n",
       "      <td>79860</td>\n",
       "      <td>John</td>\n",
       "      <td>Stafford</td>\n",
       "      <td>QB</td>\n",
       "    </tr>\n",
       "    <tr>\n",
       "      <th>1</th>\n",
       "      <td>71465</td>\n",
       "      <td>Andre</td>\n",
       "      <td>Smith</td>\n",
       "      <td>T</td>\n",
       "    </tr>\n",
       "    <tr>\n",
       "      <th>2</th>\n",
       "      <td>80427</td>\n",
       "      <td>Darrius</td>\n",
       "      <td>Heyward-Bey</td>\n",
       "      <td>WR</td>\n",
       "    </tr>\n",
       "    <tr>\n",
       "      <th>3</th>\n",
       "      <td>71269</td>\n",
       "      <td>Michael</td>\n",
       "      <td>Crabtree</td>\n",
       "      <td>WR</td>\n",
       "    </tr>\n",
       "    <tr>\n",
       "      <th>4</th>\n",
       "      <td>71423</td>\n",
       "      <td>Brian</td>\n",
       "      <td>Orakpo</td>\n",
       "      <td>OLB</td>\n",
       "    </tr>\n",
       "  </tbody>\n",
       "</table>\n",
       "</div>"
      ],
      "text/plain": [
       "   nflId FirstName     LastName PositionAbbr\n",
       "0  79860      John     Stafford           QB\n",
       "1  71465     Andre        Smith            T\n",
       "2  80427   Darrius  Heyward-Bey           WR\n",
       "3  71269   Michael     Crabtree           WR\n",
       "4  71423     Brian       Orakpo          OLB"
      ]
     },
     "execution_count": 7,
     "metadata": {},
     "output_type": "execute_result"
    }
   ],
   "source": [
    "players.head()"
   ]
  },
  {
   "cell_type": "code",
   "execution_count": 8,
   "metadata": {
    "scrolled": false
   },
   "outputs": [],
   "source": [
    "# create a dictionary for all positions and their respective players\n",
    "position_counts = {}\n",
    "positions = []\n",
    "for each in players['PositionAbbr']:\n",
    "    positions.append(each)\n",
    "    for each in set(positions):\n",
    "        count = positions.count(each)\n",
    "        position_counts[each] = count\n",
    "# pprint(position_counts)"
   ]
  },
  {
   "cell_type": "code",
   "execution_count": 9,
   "metadata": {},
   "outputs": [],
   "source": [
    "# --- 0.3077890872955322 seconds ---\n",
    "# creates a dictionary of 'player_name(string)' : nflId(number)\n",
    "def player_id_by_pos(string):\n",
    "    dictionary = {}\n",
    "    for each in range(0,len(players)):\n",
    "        if players.iloc[each,3] == string:\n",
    "            dictionary[players.iloc[each,1] + ' ' + players.iloc[each,2]] = players.iloc[each,0]\n",
    "    return dictionary\n",
    "\n",
    "C_dict = player_id_by_pos('C')      # Center               @ 55,\n",
    "CB_dict = player_id_by_pos('CB')    # Corner Back          @ 180,\n",
    "DB_dict = player_id_by_pos('DB')    # Defense Back         @ 3,\n",
    "DE_dict = player_id_by_pos('DE')    # Defense End          @ 130,\n",
    "DT_dict = player_id_by_pos('DT')    # Defense Tackle       @ 107,\n",
    "FB_dict = player_id_by_pos('FB')    # Full Back            @ 25,\n",
    "FS_dict = player_id_by_pos('FS')    # Free Safety          @ 79,\n",
    "G_dict = player_id_by_pos('G')      # Guard                @ 106,\n",
    "ILB_dict = player_id_by_pos('ILB')  # Inside Linebacker    @ 64,\n",
    "K_dict = player_id_by_pos('K')      # Kicker               @ 36,\n",
    "LB_dict = player_id_by_pos('LB')    # Line Backer          @ 4,\n",
    "LS_dict = player_id_by_pos('LS')    # Long Snapper         @ 34,\n",
    "MLB_dict = player_id_by_pos('MLB')  # Middle Linebacker    @ 38,\n",
    "NT_dict = player_id_by_pos('NT')    # Nose Tackle          @ 27,\n",
    "OLB_dict = player_id_by_pos('OLB')  # Outside Linebacker   @ 139,\n",
    "P_dict = player_id_by_pos('P')      # Punter               @ 33,\n",
    "QB_dict = player_id_by_pos('QB')    # Quarter Back         @ 50,\n",
    "RB_dict = player_id_by_pos('RB')    # Running Back         @ 120,\n",
    "SS_dict = player_id_by_pos('SS')    # Strong Safety        @ 73,\n",
    "T_dict = player_id_by_pos('T')      # Tackle               @ 107,\n",
    "TE_dict = player_id_by_pos('TE')    # Tight End            @ 109,\n",
    "WR_dict = player_id_by_pos('WR')    # Wide Receiver        @ 194"
   ]
  },
  {
   "cell_type": "markdown",
   "metadata": {},
   "source": [
    "# PLAYS"
   ]
  },
  {
   "cell_type": "code",
   "execution_count": 10,
   "metadata": {},
   "outputs": [
    {
     "data": {
      "text/html": [
       "<div>\n",
       "<style scoped>\n",
       "    .dataframe tbody tr th:only-of-type {\n",
       "        vertical-align: middle;\n",
       "    }\n",
       "\n",
       "    .dataframe tbody tr th {\n",
       "        vertical-align: top;\n",
       "    }\n",
       "\n",
       "    .dataframe thead th {\n",
       "        text-align: right;\n",
       "    }\n",
       "</style>\n",
       "<table border=\"1\" class=\"dataframe\">\n",
       "  <thead>\n",
       "    <tr style=\"text-align: right;\">\n",
       "      <th></th>\n",
       "      <th>gameId</th>\n",
       "      <th>playId</th>\n",
       "      <th>quarter</th>\n",
       "      <th>yardsToGo</th>\n",
       "      <th>possessionTeam</th>\n",
       "      <th>yardlineSide</th>\n",
       "      <th>yardlineNumber</th>\n",
       "      <th>offenseFormation</th>\n",
       "      <th>personnel.offense</th>\n",
       "    </tr>\n",
       "  </thead>\n",
       "  <tbody>\n",
       "    <tr>\n",
       "      <th>0</th>\n",
       "      <td>2017091004</td>\n",
       "      <td>37</td>\n",
       "      <td>1</td>\n",
       "      <td>0</td>\n",
       "      <td>DET</td>\n",
       "      <td>DET</td>\n",
       "      <td>35.0</td>\n",
       "      <td>NaN</td>\n",
       "      <td>NaN</td>\n",
       "    </tr>\n",
       "    <tr>\n",
       "      <th>1</th>\n",
       "      <td>2017091004</td>\n",
       "      <td>73</td>\n",
       "      <td>1</td>\n",
       "      <td>10</td>\n",
       "      <td>ARI</td>\n",
       "      <td>ARI</td>\n",
       "      <td>23.0</td>\n",
       "      <td>SHOTGUN</td>\n",
       "      <td>1 RB, 1 TE, 3 WR</td>\n",
       "    </tr>\n",
       "    <tr>\n",
       "      <th>2</th>\n",
       "      <td>2017091004</td>\n",
       "      <td>97</td>\n",
       "      <td>1</td>\n",
       "      <td>6</td>\n",
       "      <td>ARI</td>\n",
       "      <td>ARI</td>\n",
       "      <td>27.0</td>\n",
       "      <td>SINGLEBACK</td>\n",
       "      <td>1 RB, 1 TE, 3 WR</td>\n",
       "    </tr>\n",
       "    <tr>\n",
       "      <th>3</th>\n",
       "      <td>2017091004</td>\n",
       "      <td>118</td>\n",
       "      <td>1</td>\n",
       "      <td>4</td>\n",
       "      <td>ARI</td>\n",
       "      <td>ARI</td>\n",
       "      <td>29.0</td>\n",
       "      <td>SHOTGUN</td>\n",
       "      <td>1 RB, 0 TE, 4 WR</td>\n",
       "    </tr>\n",
       "    <tr>\n",
       "      <th>4</th>\n",
       "      <td>2017091004</td>\n",
       "      <td>153</td>\n",
       "      <td>1</td>\n",
       "      <td>10</td>\n",
       "      <td>ARI</td>\n",
       "      <td>ARI</td>\n",
       "      <td>44.0</td>\n",
       "      <td>SHOTGUN</td>\n",
       "      <td>1 RB, 2 TE, 2 WR</td>\n",
       "    </tr>\n",
       "  </tbody>\n",
       "</table>\n",
       "</div>"
      ],
      "text/plain": [
       "       gameId  playId  quarter  yardsToGo possessionTeam yardlineSide  \\\n",
       "0  2017091004      37        1          0            DET          DET   \n",
       "1  2017091004      73        1         10            ARI          ARI   \n",
       "2  2017091004      97        1          6            ARI          ARI   \n",
       "3  2017091004     118        1          4            ARI          ARI   \n",
       "4  2017091004     153        1         10            ARI          ARI   \n",
       "\n",
       "   yardlineNumber offenseFormation personnel.offense  \n",
       "0            35.0              NaN               NaN  \n",
       "1            23.0          SHOTGUN  1 RB, 1 TE, 3 WR  \n",
       "2            27.0       SINGLEBACK  1 RB, 1 TE, 3 WR  \n",
       "3            29.0          SHOTGUN  1 RB, 0 TE, 4 WR  \n",
       "4            44.0          SHOTGUN  1 RB, 2 TE, 2 WR  "
      ]
     },
     "execution_count": 10,
     "metadata": {},
     "output_type": "execute_result"
    }
   ],
   "source": [
    "plays.head()"
   ]
  },
  {
   "cell_type": "markdown",
   "metadata": {},
   "source": [
    "# GAME_X"
   ]
  },
  {
   "cell_type": "code",
   "execution_count": 11,
   "metadata": {
    "scrolled": true
   },
   "outputs": [
    {
     "data": {
      "text/html": [
       "<div>\n",
       "<style scoped>\n",
       "    .dataframe tbody tr th:only-of-type {\n",
       "        vertical-align: middle;\n",
       "    }\n",
       "\n",
       "    .dataframe tbody tr th {\n",
       "        vertical-align: top;\n",
       "    }\n",
       "\n",
       "    .dataframe thead th {\n",
       "        text-align: right;\n",
       "    }\n",
       "</style>\n",
       "<table border=\"1\" class=\"dataframe\">\n",
       "  <thead>\n",
       "    <tr style=\"text-align: right;\">\n",
       "      <th></th>\n",
       "      <th>x</th>\n",
       "      <th>y</th>\n",
       "      <th>event</th>\n",
       "      <th>nflId</th>\n",
       "      <th>displayName</th>\n",
       "      <th>team</th>\n",
       "      <th>gameId</th>\n",
       "      <th>playId</th>\n",
       "    </tr>\n",
       "  </thead>\n",
       "  <tbody>\n",
       "    <tr>\n",
       "      <th>0</th>\n",
       "      <td>41.56</td>\n",
       "      <td>16.54</td>\n",
       "      <td>NaN</td>\n",
       "      <td>2495340.0</td>\n",
       "      <td>Anthony Sherman</td>\n",
       "      <td>away</td>\n",
       "      <td>2017090700</td>\n",
       "      <td>44</td>\n",
       "    </tr>\n",
       "    <tr>\n",
       "      <th>1</th>\n",
       "      <td>41.95</td>\n",
       "      <td>16.62</td>\n",
       "      <td>NaN</td>\n",
       "      <td>2495340.0</td>\n",
       "      <td>Anthony Sherman</td>\n",
       "      <td>away</td>\n",
       "      <td>2017090700</td>\n",
       "      <td>44</td>\n",
       "    </tr>\n",
       "    <tr>\n",
       "      <th>2</th>\n",
       "      <td>42.40</td>\n",
       "      <td>16.73</td>\n",
       "      <td>NaN</td>\n",
       "      <td>2495340.0</td>\n",
       "      <td>Anthony Sherman</td>\n",
       "      <td>away</td>\n",
       "      <td>2017090700</td>\n",
       "      <td>44</td>\n",
       "    </tr>\n",
       "    <tr>\n",
       "      <th>3</th>\n",
       "      <td>42.85</td>\n",
       "      <td>16.82</td>\n",
       "      <td>NaN</td>\n",
       "      <td>2495340.0</td>\n",
       "      <td>Anthony Sherman</td>\n",
       "      <td>away</td>\n",
       "      <td>2017090700</td>\n",
       "      <td>44</td>\n",
       "    </tr>\n",
       "    <tr>\n",
       "      <th>4</th>\n",
       "      <td>43.36</td>\n",
       "      <td>16.92</td>\n",
       "      <td>kickoff</td>\n",
       "      <td>2495340.0</td>\n",
       "      <td>Anthony Sherman</td>\n",
       "      <td>away</td>\n",
       "      <td>2017090700</td>\n",
       "      <td>44</td>\n",
       "    </tr>\n",
       "  </tbody>\n",
       "</table>\n",
       "</div>"
      ],
      "text/plain": [
       "       x      y    event      nflId      displayName  team      gameId  playId\n",
       "0  41.56  16.54      NaN  2495340.0  Anthony Sherman  away  2017090700      44\n",
       "1  41.95  16.62      NaN  2495340.0  Anthony Sherman  away  2017090700      44\n",
       "2  42.40  16.73      NaN  2495340.0  Anthony Sherman  away  2017090700      44\n",
       "3  42.85  16.82      NaN  2495340.0  Anthony Sherman  away  2017090700      44\n",
       "4  43.36  16.92  kickoff  2495340.0  Anthony Sherman  away  2017090700      44"
      ]
     },
     "execution_count": 11,
     "metadata": {},
     "output_type": "execute_result"
    }
   ],
   "source": [
    "game[0].head()"
   ]
  },
  {
   "cell_type": "code",
   "execution_count": 12,
   "metadata": {},
   "outputs": [],
   "source": [
    "list_of_forms = []\n",
    "for each in set(plays['offenseFormation'].values):\n",
    "    if type(each) == str:\n",
    "        list_of_forms.append(each)\n",
    "clean_plays = plays.loc[plays['offenseFormation'].isin(list_of_forms)]"
   ]
  },
  {
   "cell_type": "code",
   "execution_count": 13,
   "metadata": {},
   "outputs": [],
   "source": [
    "# --- 3.602159261703491 seconds ---\n",
    "types_of_snaps = ['kickoff', 'ball_snap', 'snap_direct']\n",
    "all_snaps = game[0].loc[game[0]['event'].isin(types_of_snaps)]\n",
    "for i in range(1,len(games)):\n",
    "    all_snaps = all_snaps.append(game[i].loc[game[i]['event'].isin(types_of_snaps)], ignore_index=True)"
   ]
  },
  {
   "cell_type": "code",
   "execution_count": 14,
   "metadata": {
    "scrolled": true
   },
   "outputs": [
    {
     "data": {
      "text/html": [
       "<div>\n",
       "<style scoped>\n",
       "    .dataframe tbody tr th:only-of-type {\n",
       "        vertical-align: middle;\n",
       "    }\n",
       "\n",
       "    .dataframe tbody tr th {\n",
       "        vertical-align: top;\n",
       "    }\n",
       "\n",
       "    .dataframe thead th {\n",
       "        text-align: right;\n",
       "    }\n",
       "</style>\n",
       "<table border=\"1\" class=\"dataframe\">\n",
       "  <thead>\n",
       "    <tr style=\"text-align: right;\">\n",
       "      <th></th>\n",
       "      <th>x</th>\n",
       "      <th>y</th>\n",
       "      <th>event</th>\n",
       "      <th>nflId</th>\n",
       "      <th>displayName</th>\n",
       "      <th>team</th>\n",
       "      <th>gameId</th>\n",
       "      <th>playId</th>\n",
       "    </tr>\n",
       "  </thead>\n",
       "  <tbody>\n",
       "    <tr>\n",
       "      <th>0</th>\n",
       "      <td>43.36</td>\n",
       "      <td>16.92</td>\n",
       "      <td>kickoff</td>\n",
       "      <td>2495340.0</td>\n",
       "      <td>Anthony Sherman</td>\n",
       "      <td>away</td>\n",
       "      <td>2017090700</td>\n",
       "      <td>44</td>\n",
       "    </tr>\n",
       "    <tr>\n",
       "      <th>1</th>\n",
       "      <td>43.84</td>\n",
       "      <td>37.50</td>\n",
       "      <td>kickoff</td>\n",
       "      <td>2507948.0</td>\n",
       "      <td>Frank Zombo</td>\n",
       "      <td>away</td>\n",
       "      <td>2017090700</td>\n",
       "      <td>44</td>\n",
       "    </tr>\n",
       "    <tr>\n",
       "      <th>2</th>\n",
       "      <td>44.73</td>\n",
       "      <td>19.94</td>\n",
       "      <td>kickoff</td>\n",
       "      <td>2541187.0</td>\n",
       "      <td>Demetrius Harris</td>\n",
       "      <td>away</td>\n",
       "      <td>2017090700</td>\n",
       "      <td>44</td>\n",
       "    </tr>\n",
       "    <tr>\n",
       "      <th>3</th>\n",
       "      <td>44.16</td>\n",
       "      <td>13.78</td>\n",
       "      <td>kickoff</td>\n",
       "      <td>2543563.0</td>\n",
       "      <td>Kevin Pierre-Louis</td>\n",
       "      <td>away</td>\n",
       "      <td>2017090700</td>\n",
       "      <td>44</td>\n",
       "    </tr>\n",
       "    <tr>\n",
       "      <th>4</th>\n",
       "      <td>42.89</td>\n",
       "      <td>48.28</td>\n",
       "      <td>kickoff</td>\n",
       "      <td>2543638.0</td>\n",
       "      <td>De'Anthony Thomas</td>\n",
       "      <td>away</td>\n",
       "      <td>2017090700</td>\n",
       "      <td>44</td>\n",
       "    </tr>\n",
       "    <tr>\n",
       "      <th>5</th>\n",
       "      <td>43.09</td>\n",
       "      <td>6.67</td>\n",
       "      <td>kickoff</td>\n",
       "      <td>2549981.0</td>\n",
       "      <td>Kenneth Acker</td>\n",
       "      <td>away</td>\n",
       "      <td>2017090700</td>\n",
       "      <td>44</td>\n",
       "    </tr>\n",
       "    <tr>\n",
       "      <th>6</th>\n",
       "      <td>44.28</td>\n",
       "      <td>31.39</td>\n",
       "      <td>kickoff</td>\n",
       "      <td>2550257.0</td>\n",
       "      <td>Daniel Sorensen</td>\n",
       "      <td>away</td>\n",
       "      <td>2017090700</td>\n",
       "      <td>44</td>\n",
       "    </tr>\n",
       "    <tr>\n",
       "      <th>7</th>\n",
       "      <td>44.97</td>\n",
       "      <td>26.96</td>\n",
       "      <td>kickoff</td>\n",
       "      <td>2550636.0</td>\n",
       "      <td>Cairo Santos</td>\n",
       "      <td>away</td>\n",
       "      <td>2017090700</td>\n",
       "      <td>44</td>\n",
       "    </tr>\n",
       "    <tr>\n",
       "      <th>8</th>\n",
       "      <td>44.11</td>\n",
       "      <td>45.64</td>\n",
       "      <td>kickoff</td>\n",
       "      <td>2555173.0</td>\n",
       "      <td>Eric Murray</td>\n",
       "      <td>away</td>\n",
       "      <td>2017090700</td>\n",
       "      <td>44</td>\n",
       "    </tr>\n",
       "    <tr>\n",
       "      <th>9</th>\n",
       "      <td>44.18</td>\n",
       "      <td>41.41</td>\n",
       "      <td>kickoff</td>\n",
       "      <td>2556775.0</td>\n",
       "      <td>Terrance Smith</td>\n",
       "      <td>away</td>\n",
       "      <td>2017090700</td>\n",
       "      <td>44</td>\n",
       "    </tr>\n",
       "    <tr>\n",
       "      <th>10</th>\n",
       "      <td>43.83</td>\n",
       "      <td>10.37</td>\n",
       "      <td>kickoff</td>\n",
       "      <td>2557866.0</td>\n",
       "      <td>Jehu Chesson</td>\n",
       "      <td>away</td>\n",
       "      <td>2017090700</td>\n",
       "      <td>44</td>\n",
       "    </tr>\n",
       "  </tbody>\n",
       "</table>\n",
       "</div>"
      ],
      "text/plain": [
       "        x      y    event      nflId         displayName  team      gameId  \\\n",
       "0   43.36  16.92  kickoff  2495340.0     Anthony Sherman  away  2017090700   \n",
       "1   43.84  37.50  kickoff  2507948.0         Frank Zombo  away  2017090700   \n",
       "2   44.73  19.94  kickoff  2541187.0    Demetrius Harris  away  2017090700   \n",
       "3   44.16  13.78  kickoff  2543563.0  Kevin Pierre-Louis  away  2017090700   \n",
       "4   42.89  48.28  kickoff  2543638.0   De'Anthony Thomas  away  2017090700   \n",
       "5   43.09   6.67  kickoff  2549981.0       Kenneth Acker  away  2017090700   \n",
       "6   44.28  31.39  kickoff  2550257.0     Daniel Sorensen  away  2017090700   \n",
       "7   44.97  26.96  kickoff  2550636.0        Cairo Santos  away  2017090700   \n",
       "8   44.11  45.64  kickoff  2555173.0         Eric Murray  away  2017090700   \n",
       "9   44.18  41.41  kickoff  2556775.0      Terrance Smith  away  2017090700   \n",
       "10  43.83  10.37  kickoff  2557866.0        Jehu Chesson  away  2017090700   \n",
       "\n",
       "    playId  \n",
       "0       44  \n",
       "1       44  \n",
       "2       44  \n",
       "3       44  \n",
       "4       44  \n",
       "5       44  \n",
       "6       44  \n",
       "7       44  \n",
       "8       44  \n",
       "9       44  \n",
       "10      44  "
      ]
     },
     "execution_count": 14,
     "metadata": {},
     "output_type": "execute_result"
    }
   ],
   "source": [
    "all_snaps.head(11)"
   ]
  },
  {
   "cell_type": "code",
   "execution_count": 15,
   "metadata": {},
   "outputs": [],
   "source": [
    "# --- 0.0003311634063720703 seconds ---\n",
    "# returns a list of all game IDs\n",
    "def ret_list_of_games():\n",
    "    list_of_games = []\n",
    "    game_list = games.gameId.unique()\n",
    "    for each in game_list:\n",
    "        list_of_games.append(each)\n",
    "    return sorted(list_of_games)"
   ]
  },
  {
   "cell_type": "code",
   "execution_count": 16,
   "metadata": {},
   "outputs": [],
   "source": [
    "# --- 0.0011780261993408203 seconds ---\n",
    "# returns a list of all plays given a game ID\n",
    "def ret_list_of_plays_of_game(game_num):\n",
    "#     game_file = game[game_num]\n",
    "#     if len(game_file.gameId.unique()) == 1:\n",
    "#         game_id = game_file.gameId.unique().item()\n",
    "#     else:\n",
    "#         game_id = int(statistics.median(game_file['gameId']))\n",
    "    list_of_plays = []\n",
    "    play_list = clean_plays.loc[clean_plays['gameId'] == game_num].playId.unique()\n",
    "    for each in play_list:\n",
    "        list_of_plays.append(each)\n",
    "    return sorted(list_of_plays)"
   ]
  },
  {
   "cell_type": "code",
   "execution_count": 17,
   "metadata": {},
   "outputs": [],
   "source": [
    "# print(ret_list_of_plays_of_game(2017090700))"
   ]
  },
  {
   "cell_type": "code",
   "execution_count": 18,
   "metadata": {},
   "outputs": [],
   "source": [
    "# --- 0.03001999855041504 seconds ---\n",
    "# returns a list of all the df indeces for defending players given a game ID and play ID\n",
    "def list_of_defending_players(game_num, play_num):\n",
    "    remove_non_off = []\n",
    "    # if home team in games.csv == possession team in clean_plays.csv\n",
    "    if games.loc[games['gameId'] == game_num]['homeTeamAbbr'].item() == clean_plays.loc[clean_plays['gameId'] == game_num].loc[clean_plays['playId'] == play_num]['possessionTeam'].item():\n",
    "        # for each row in all_snaps where the gameID and playID match, append defending (away) players\n",
    "        for each in all_snaps.loc[all_snaps['gameId'] == game_num].loc[all_snaps['playId'] == play_num].loc[all_snaps['team'] == 'away'].index.values:\n",
    "            remove_non_off.append(each)\n",
    "    # if away team in games.csv == possession team in clean_plays.csv\n",
    "    elif games.loc[games['gameId'] == game_num]['visitorTeamAbbr'].item() == clean_plays.loc[clean_plays['gameId'] == game_num].loc[clean_plays['playId'] == play_num]['possessionTeam'].item():\n",
    "        # for each row in all_snaps where the gameID and playID match, append defending (home) players\n",
    "        for each in all_snaps.loc[all_snaps['gameId'] == game_num].loc[all_snaps['playId'] == play_num].loc[all_snaps['team'] == 'home'].index.values:\n",
    "            remove_non_off.append(each)\n",
    "    return remove_non_off\n",
    "\n",
    "# list_of_defending_players(2017090700, 68)"
   ]
  },
  {
   "cell_type": "code",
   "execution_count": 19,
   "metadata": {},
   "outputs": [],
   "source": [
    "# --- 265.12225008010864 seconds ---\n",
    "# returns all df indeces for defending players\n",
    "def list_of_indeces_with_defending_players():\n",
    "    list_of_play_removals = []\n",
    "    list_of_games = ret_list_of_games()\n",
    "    # for each game\n",
    "    for each_game in list_of_games:\n",
    "        list_of_plays_of_game = ret_list_of_plays_of_game(each_game)\n",
    "        # and for each play in each game\n",
    "        for each_play in list_of_plays_of_game:\n",
    "            # add to the list the indeces of defending players\n",
    "            for each_index in list_of_defending_players(each_game, each_play):\n",
    "                list_of_play_removals.append(each_index)\n",
    "    return list_of_play_removals"
   ]
  },
  {
   "cell_type": "code",
   "execution_count": 20,
   "metadata": {
    "scrolled": false
   },
   "outputs": [],
   "source": [
    "# the list of indeces with defending players from all_snaps\n",
    "# WARNING: TAKES 265 SECONDS TO LOAD\n",
    "rem_these_ind = list_of_indeces_with_defending_players()"
   ]
  },
  {
   "cell_type": "code",
   "execution_count": 21,
   "metadata": {},
   "outputs": [
    {
     "data": {
      "text/html": [
       "<div>\n",
       "<style scoped>\n",
       "    .dataframe tbody tr th:only-of-type {\n",
       "        vertical-align: middle;\n",
       "    }\n",
       "\n",
       "    .dataframe tbody tr th {\n",
       "        vertical-align: top;\n",
       "    }\n",
       "\n",
       "    .dataframe thead th {\n",
       "        text-align: right;\n",
       "    }\n",
       "</style>\n",
       "<table border=\"1\" class=\"dataframe\">\n",
       "  <thead>\n",
       "    <tr style=\"text-align: right;\">\n",
       "      <th></th>\n",
       "      <th>x</th>\n",
       "      <th>y</th>\n",
       "      <th>event</th>\n",
       "      <th>nflId</th>\n",
       "      <th>displayName</th>\n",
       "      <th>team</th>\n",
       "      <th>gameId</th>\n",
       "      <th>playId</th>\n",
       "    </tr>\n",
       "  </thead>\n",
       "  <tbody>\n",
       "    <tr>\n",
       "      <th>0</th>\n",
       "      <td>43.36</td>\n",
       "      <td>16.92</td>\n",
       "      <td>kickoff</td>\n",
       "      <td>2495340.0</td>\n",
       "      <td>Anthony Sherman</td>\n",
       "      <td>away</td>\n",
       "      <td>2017090700</td>\n",
       "      <td>44</td>\n",
       "    </tr>\n",
       "    <tr>\n",
       "      <th>1</th>\n",
       "      <td>43.84</td>\n",
       "      <td>37.50</td>\n",
       "      <td>kickoff</td>\n",
       "      <td>2507948.0</td>\n",
       "      <td>Frank Zombo</td>\n",
       "      <td>away</td>\n",
       "      <td>2017090700</td>\n",
       "      <td>44</td>\n",
       "    </tr>\n",
       "    <tr>\n",
       "      <th>2</th>\n",
       "      <td>44.73</td>\n",
       "      <td>19.94</td>\n",
       "      <td>kickoff</td>\n",
       "      <td>2541187.0</td>\n",
       "      <td>Demetrius Harris</td>\n",
       "      <td>away</td>\n",
       "      <td>2017090700</td>\n",
       "      <td>44</td>\n",
       "    </tr>\n",
       "    <tr>\n",
       "      <th>3</th>\n",
       "      <td>44.16</td>\n",
       "      <td>13.78</td>\n",
       "      <td>kickoff</td>\n",
       "      <td>2543563.0</td>\n",
       "      <td>Kevin Pierre-Louis</td>\n",
       "      <td>away</td>\n",
       "      <td>2017090700</td>\n",
       "      <td>44</td>\n",
       "    </tr>\n",
       "    <tr>\n",
       "      <th>4</th>\n",
       "      <td>42.89</td>\n",
       "      <td>48.28</td>\n",
       "      <td>kickoff</td>\n",
       "      <td>2543638.0</td>\n",
       "      <td>De'Anthony Thomas</td>\n",
       "      <td>away</td>\n",
       "      <td>2017090700</td>\n",
       "      <td>44</td>\n",
       "    </tr>\n",
       "  </tbody>\n",
       "</table>\n",
       "</div>"
      ],
      "text/plain": [
       "       x      y    event      nflId         displayName  team      gameId  \\\n",
       "0  43.36  16.92  kickoff  2495340.0     Anthony Sherman  away  2017090700   \n",
       "1  43.84  37.50  kickoff  2507948.0         Frank Zombo  away  2017090700   \n",
       "2  44.73  19.94  kickoff  2541187.0    Demetrius Harris  away  2017090700   \n",
       "3  44.16  13.78  kickoff  2543563.0  Kevin Pierre-Louis  away  2017090700   \n",
       "4  42.89  48.28  kickoff  2543638.0   De'Anthony Thomas  away  2017090700   \n",
       "\n",
       "   playId  \n",
       "0      44  \n",
       "1      44  \n",
       "2      44  \n",
       "3      44  \n",
       "4      44  "
      ]
     },
     "execution_count": 21,
     "metadata": {},
     "output_type": "execute_result"
    }
   ],
   "source": [
    "# all offense-only rows in dataframe all_snaps\n",
    "all_off_snaps = all_snaps.drop(rem_these_ind)\n",
    "all_off_snaps.head()"
   ]
  },
  {
   "cell_type": "code",
   "execution_count": 22,
   "metadata": {},
   "outputs": [],
   "source": [
    "# 2D array of [xi(relative),yi] positions\n",
    "# changed to 1D\n",
    "def xi_yi(game_num, play_num):\n",
    "    df_offs = all_off_snaps.loc[all_off_snaps['gameId'] == game_num].loc[all_off_snaps['playId'] == play_num]\n",
    "    try:\n",
    "        the_mean = np.mean(df_offs['x'].values)\n",
    "        the_median = statistics.median(df_offs['x'].values)\n",
    "        inp_list = []\n",
    "        inp_list2 = []\n",
    "        if the_median > the_mean:\n",
    "            for index,row in df_offs.iterrows():\n",
    "                inp_list.append(round(max(df_offs['x']) - row['x'], 2))\n",
    "                inp_list.append(row['y'])\n",
    "        elif the_mean > the_median:\n",
    "            for index,row in df_offs.iterrows():\n",
    "                inp_list.append(round(row['x'] - min(df_offs['x']), 2))\n",
    "                inp_list.append(row['y'])\n",
    "\n",
    "        inp_list2 = np.reshape(inp_list, (-1, 2))\n",
    "\n",
    "        the_form = clean_plays.loc[clean_plays['gameId'] == game_num].loc[clean_plays['playId'] == play_num]['offenseFormation'].item()\n",
    "        output = the_form\n",
    "        if type(output) != str:\n",
    "            return None\n",
    "        \n",
    "        # note that inp_list is a list: [x1,y1,x2,y2...]\n",
    "        if len(inp_list) != 22:\n",
    "            return None\n",
    "        return inp_list, output\n",
    "        # note that inp_list2 is an array: [[x1,y1],[x2,y2]...]\n",
    "#         if len(inp_list2) != 11:\n",
    "#             return None\n",
    "#         return inp_list2, output\n",
    "    except:\n",
    "        pass"
   ]
  },
  {
   "cell_type": "code",
   "execution_count": 23,
   "metadata": {},
   "outputs": [],
   "source": [
    "# --- 54.21045970916748 seconds ---\n",
    "# returns list of all relative xi coordinates and yi\n",
    "def list_of_xi_yi():\n",
    "    list_of_games = ret_list_of_games()\n",
    "    list_of_inp_out = []\n",
    "    for each_game in list_of_games:\n",
    "        list_of_plays_of_game = ret_list_of_plays_of_game(each_game)\n",
    "        for each_play in list_of_plays_of_game:\n",
    "            each_coord = xi_yi(each_game, each_play)\n",
    "            list_of_inp_out.append(each_coord)\n",
    "    return list_of_inp_out"
   ]
  },
  {
   "cell_type": "code",
   "execution_count": 26,
   "metadata": {
    "scrolled": false
   },
   "outputs": [],
   "source": [
    "# might get a runtime warning, but it works\n",
    "xiyi_list = list_of_xi_yi()"
   ]
  },
  {
   "cell_type": "code",
   "execution_count": 27,
   "metadata": {},
   "outputs": [],
   "source": [
    "# new df consisting of x-y pos & form\n",
    "def create_new_df():\n",
    "    new_df = pd.DataFrame(columns=['x-y', 'o_form'])\n",
    "    for i in range(len(xiyi_list)):\n",
    "        if type(xiyi_list[i]) == tuple:\n",
    "            # use this line for inp_list1\n",
    "            new_df.loc[i] = [xiyi_list[0:len(xiyi_list)][i][0]] + [xiyi_list[0:len(xiyi_list)][i][1]]\n",
    "            # use this line for inp_list2\n",
    "#             new_df.loc[i] = [xiyi_list[0:len(xiyi_list)][i][0].tolist()] + [xiyi_list[0:len(xiyi_list)][i][1]]\n",
    "    return new_df"
   ]
  },
  {
   "cell_type": "code",
   "execution_count": 28,
   "metadata": {},
   "outputs": [],
   "source": [
    "# --- 17.830195903778076 seconds ---\n",
    "new_df = create_new_df()"
   ]
  },
  {
   "cell_type": "code",
   "execution_count": 29,
   "metadata": {},
   "outputs": [
    {
     "data": {
      "text/html": [
       "<div>\n",
       "<style scoped>\n",
       "    .dataframe tbody tr th:only-of-type {\n",
       "        vertical-align: middle;\n",
       "    }\n",
       "\n",
       "    .dataframe tbody tr th {\n",
       "        vertical-align: top;\n",
       "    }\n",
       "\n",
       "    .dataframe thead th {\n",
       "        text-align: right;\n",
       "    }\n",
       "</style>\n",
       "<table border=\"1\" class=\"dataframe\">\n",
       "  <thead>\n",
       "    <tr style=\"text-align: right;\">\n",
       "      <th></th>\n",
       "      <th>x-y</th>\n",
       "      <th>o_form</th>\n",
       "    </tr>\n",
       "  </thead>\n",
       "  <tbody>\n",
       "    <tr>\n",
       "      <th>0</th>\n",
       "      <td>[0.23, 34.79, 0.51, 32.84, 0.32, 26.61, 0.73, ...</td>\n",
       "      <td>SINGLEBACK</td>\n",
       "    </tr>\n",
       "    <tr>\n",
       "      <th>1</th>\n",
       "      <td>[1.36, 19.45, 0.69, 34.63, 0.62, 32.82, 0.38, ...</td>\n",
       "      <td>SINGLEBACK</td>\n",
       "    </tr>\n",
       "    <tr>\n",
       "      <th>2</th>\n",
       "      <td>[1.77, 17.37, 0.42, 34.67, 0.74, 32.92, 0.48, ...</td>\n",
       "      <td>SHOTGUN</td>\n",
       "    </tr>\n",
       "    <tr>\n",
       "      <th>3</th>\n",
       "      <td>[2.59, 20.75, 0.45, 32.66, 0.71, 31.04, 0.48, ...</td>\n",
       "      <td>SHOTGUN</td>\n",
       "    </tr>\n",
       "    <tr>\n",
       "      <th>4</th>\n",
       "      <td>[1.15, 33.03, 1.26, 37.15, 0.7, 29.76, 0.61, 2...</td>\n",
       "      <td>EMPTY</td>\n",
       "    </tr>\n",
       "  </tbody>\n",
       "</table>\n",
       "</div>"
      ],
      "text/plain": [
       "                                                 x-y      o_form\n",
       "0  [0.23, 34.79, 0.51, 32.84, 0.32, 26.61, 0.73, ...  SINGLEBACK\n",
       "1  [1.36, 19.45, 0.69, 34.63, 0.62, 32.82, 0.38, ...  SINGLEBACK\n",
       "2  [1.77, 17.37, 0.42, 34.67, 0.74, 32.92, 0.48, ...     SHOTGUN\n",
       "3  [2.59, 20.75, 0.45, 32.66, 0.71, 31.04, 0.48, ...     SHOTGUN\n",
       "4  [1.15, 33.03, 1.26, 37.15, 0.7, 29.76, 0.61, 2...       EMPTY"
      ]
     },
     "execution_count": 29,
     "metadata": {},
     "output_type": "execute_result"
    }
   ],
   "source": [
    "new_df.head()"
   ]
  },
  {
   "cell_type": "code",
   "execution_count": 30,
   "metadata": {},
   "outputs": [],
   "source": [
    "X = []\n",
    "for index,each in new_df[['x-y']].iterrows():\n",
    "    X.append(each[0])\n",
    "y = []\n",
    "for index,each in new_df[['o_form']].iterrows():\n",
    "    y.append(each[0])"
   ]
  },
  {
   "cell_type": "code",
   "execution_count": 31,
   "metadata": {},
   "outputs": [],
   "source": [
    "X_train, X_test, y_train, y_test = train_test_split(X, y, random_state=0)\n",
    "scaler = MinMaxScaler()\n",
    "X_train = scaler.fit_transform(X_train)\n",
    "X_test = scaler.transform(X_test)"
   ]
  },
  {
   "cell_type": "code",
   "execution_count": 32,
   "metadata": {},
   "outputs": [
    {
     "name": "stdout",
     "output_type": "stream",
     "text": [
      "Accuracy of Decision Tree classifier on training set: 1.00\n",
      "Accuracy of Decision Tree classifier on test set: 0.89\n"
     ]
    }
   ],
   "source": [
    "from sklearn.tree import DecisionTreeClassifier\n",
    "\n",
    "clf = DecisionTreeClassifier().fit(X_train, y_train)\n",
    "print('Accuracy of Decision Tree classifier on training set: {:.2f}'\n",
    "     .format(clf.score(X_train, y_train)))\n",
    "print('Accuracy of Decision Tree classifier on test set: {:.2f}'\n",
    "     .format(clf.score(X_test, y_test)))"
   ]
  },
  {
   "cell_type": "code",
   "execution_count": 33,
   "metadata": {},
   "outputs": [
    {
     "name": "stdout",
     "output_type": "stream",
     "text": [
      "Accuracy of K-NN classifier on training set: 0.88\n",
      "Accuracy of K-NN classifier on test set: 0.82\n"
     ]
    }
   ],
   "source": [
    "from sklearn.neighbors import KNeighborsClassifier\n",
    "\n",
    "knn = KNeighborsClassifier()\n",
    "knn.fit(X_train, y_train)\n",
    "print('Accuracy of K-NN classifier on training set: {:.2f}'\n",
    "     .format(knn.score(X_train, y_train)))\n",
    "print('Accuracy of K-NN classifier on test set: {:.2f}'\n",
    "     .format(knn.score(X_test, y_test)))"
   ]
  },
  {
   "cell_type": "code",
   "execution_count": 34,
   "metadata": {},
   "outputs": [
    {
     "name": "stdout",
     "output_type": "stream",
     "text": [
      "Accuracy of GNB classifier on training set: 0.66\n",
      "Accuracy of GNB classifier on test set: 0.66\n"
     ]
    }
   ],
   "source": [
    "from sklearn.naive_bayes import GaussianNB\n",
    "\n",
    "gnb = GaussianNB()\n",
    "gnb.fit(X_train, y_train)\n",
    "print('Accuracy of GNB classifier on training set: {:.2f}'\n",
    "     .format(gnb.score(X_train, y_train)))\n",
    "print('Accuracy of GNB classifier on test set: {:.2f}'\n",
    "     .format(gnb.score(X_test, y_test)))"
   ]
  },
  {
   "cell_type": "code",
   "execution_count": 35,
   "metadata": {},
   "outputs": [
    {
     "name": "stdout",
     "output_type": "stream",
     "text": [
      "Accuracy of LDA classifier on training set: 0.59\n",
      "Accuracy of LDA classifier on test set: 0.59\n"
     ]
    }
   ],
   "source": [
    "from sklearn.discriminant_analysis import LinearDiscriminantAnalysis\n",
    "\n",
    "lda = LinearDiscriminantAnalysis()\n",
    "lda.fit(X_train, y_train)\n",
    "print('Accuracy of LDA classifier on training set: {:.2f}'\n",
    "     .format(lda.score(X_train, y_train)))\n",
    "print('Accuracy of LDA classifier on test set: {:.2f}'\n",
    "     .format(lda.score(X_test, y_test)))"
   ]
  },
  {
   "cell_type": "code",
   "execution_count": 36,
   "metadata": {
    "scrolled": true
   },
   "outputs": [
    {
     "name": "stdout",
     "output_type": "stream",
     "text": [
      "Logistic Regression Acc on training set: 0.57\n",
      "Logistic Regression Acc on test set: 0.57\n"
     ]
    }
   ],
   "source": [
    "from sklearn.linear_model import LogisticRegression\n",
    "\n",
    "logreg = LogisticRegression()\n",
    "logreg.fit(X_train, y_train)\n",
    "print('Logistic Regression Acc on training set: {:.2f}'\n",
    "      .format(logreg.score(X_train, y_train)))\n",
    "print('Logistic Regression Acc on test set: {:.2f}'\n",
    "      .format(logreg.score(X_test, y_test)))"
   ]
  },
  {
   "cell_type": "code",
   "execution_count": 37,
   "metadata": {},
   "outputs": [
    {
     "name": "stdout",
     "output_type": "stream",
     "text": [
      "Accuracy of SVM classifier on training set: 0.51\n",
      "Accuracy of SVM classifier on test set: 0.51\n"
     ]
    }
   ],
   "source": [
    "from sklearn.svm import SVC\n",
    "\n",
    "svm = SVC()\n",
    "svm.fit(X_train, y_train)\n",
    "print('Accuracy of SVM classifier on training set: {:.2f}'\n",
    "     .format(svm.score(X_train, y_train)))\n",
    "print('Accuracy of SVM classifier on test set: {:.2f}'\n",
    "     .format(svm.score(X_test, y_test)))"
   ]
  },
  {
   "cell_type": "code",
   "execution_count": 38,
   "metadata": {
    "scrolled": false
   },
   "outputs": [
    {
     "name": "stdout",
     "output_type": "stream",
     "text": [
      "=====================================\n",
      "[[ 171    2    0    0   46    4    0]\n",
      " [   1  249   17    6    8   42    1]\n",
      " [   0    7   10    0    1    7    0]\n",
      " [   2    9    1   17    3    3    0]\n",
      " [  44   17    4    8 1360   20    1]\n",
      " [   8   25   11    1   13  701    1]\n",
      " [   2    1    0    0    4    2    0]]\n",
      "====================================================\n",
      "             precision    recall  f1-score   support\n",
      "\n",
      "      EMPTY       0.75      0.77      0.76       223\n",
      "     I_FORM       0.80      0.77      0.79       324\n",
      "      JUMBO       0.23      0.40      0.29        25\n",
      "     PISTOL       0.53      0.49      0.51        35\n",
      "    SHOTGUN       0.95      0.94      0.94      1454\n",
      " SINGLEBACK       0.90      0.92      0.91       760\n",
      "    WILDCAT       0.00      0.00      0.00         9\n",
      "\n",
      "avg / total       0.89      0.89      0.89      2830\n",
      "\n",
      "====================================================\n"
     ]
    }
   ],
   "source": [
    "from sklearn.metrics import classification_report\n",
    "from sklearn.metrics import confusion_matrix\n",
    "\n",
    "pred = clf.predict(X_test)\n",
    "print('=====================================')\n",
    "print(confusion_matrix(y_test, pred))\n",
    "print('====================================================')\n",
    "print(classification_report(y_test, pred))\n",
    "print('====================================================')"
   ]
  },
  {
   "cell_type": "code",
   "execution_count": 39,
   "metadata": {},
   "outputs": [],
   "source": [
    "def map2_play(game_file, play_sequence):\n",
    "    \n",
    "    # from games.csv\n",
    "    game_file = game[game_file]\n",
    "    game_id = int(statistics.median(game_file['gameId']))\n",
    "    game_df_in_all_games = games.loc[games['gameId'] == game_id]\n",
    "    home_team_name = game_df_in_all_games['homeTeamAbbr'].item()\n",
    "    away_team_name = game_df_in_all_games['visitorTeamAbbr'].item()\n",
    "    \n",
    "    # from plays.csv\n",
    "    all_plays_for_game = sorted(set(game_file['playId']))\n",
    "    play_id = all_plays_for_game[play_sequence]\n",
    "    game_dfs_from_plays = plays.loc[plays['gameId'] == game_id]\n",
    "    play_df = game_dfs_from_plays.loc[game_dfs_from_plays['playId'] == play_id]\n",
    "    off_team_name = play_df['possessionTeam'].item()\n",
    "    def_team_name = away_team_name if off_team_name == home_team_name else home_team_name\n",
    "    off_form_on_snap = play_df['offenseFormation'].item()\n",
    "    \n",
    "    # from ...gameid.csv\n",
    "    play_dfs_from_game_file = game_file.loc[game_file['playId'] == play_id]\n",
    "    types_of_snaps = ['kickoff', 'ball_snap', 'snap_direct']\n",
    "    snap_stats = play_dfs_from_game_file.loc[play_dfs_from_game_file['event'].isin(types_of_snaps)]\n",
    "    home_team_stats_on_snap = snap_stats.loc[snap_stats['team'] == 'home']\n",
    "    away_team_stats_on_snap = snap_stats.loc[snap_stats['team'] == 'away']\n",
    "    \n",
    "    # scrimmage line\n",
    "    yard_line = play_df['yardlineNumber'].item()\n",
    "    yard_1stD = play_df['yardsToGo'].item()\n",
    "    yard_side = play_df['yardlineSide'].item()\n",
    "    \n",
    "    \n",
    "    # plot box\n",
    "    plt.figure(figsize=(18,8.25))\n",
    "    plt.subplot(facecolor=(.50, .78, .44))\n",
    "    axes = plt.gca()\n",
    "    axes.set_xlim([0,120])\n",
    "    axes.set_ylim([0,55])\n",
    "    \n",
    "    print(\"\")\n",
    "    print(\"Game# [\" + str(game_id) + \"]\")\n",
    "    print(\"Play# [\" + str(play_id) + \"]\")\n",
    "    print(\"O-Formation: [\" + off_form_on_snap.title() + \"]\") if type(off_form_on_snap) == str else print(\"O-Formation: [n/a]\")\n",
    "    \n",
    "    # plot the field\n",
    "    x = np.linspace(0,55)\n",
    "#     lab = ['', '0', '10', '20', '30', '40', '50', '40', '30', '20', '10', '0', '',]\n",
    "#     plt.xticks(x, lab)\n",
    "    for each in range(0,120,10):\n",
    "        y = 0*x + each\n",
    "        plt.plot(y, x, 'white', lw=.5, zorder=1)\n",
    "    for each in range(10,110,5):\n",
    "        y = 0*x + each\n",
    "        plt.plot(y, x, 'white', lw=.3, zorder=1)\n",
    "    for each in range(5,120,110):\n",
    "        y = 0*x + each\n",
    "        plt.plot(y, x, 'forestgreen', lw=85, zorder=1)\n",
    "    \n",
    "    # plot scrimmage line\n",
    "    rel_ydline = 0\n",
    "    # if valid entry\n",
    "    if not math.isnan(yard_line) and type(yard_side) == str:\n",
    "        color_scrimline = 'black'\n",
    "        color_1stD = 'magenta'\n",
    "        y = 0*x + yard_line\n",
    "        left_adj  = 10+y\n",
    "        right_adj = 110-y\n",
    "        # every quarter switch sides\n",
    "        if int(play_df['quarter']) <= 2:\n",
    "            # forgot why this works but it does\n",
    "            if yard_side == away_team_name and int(play_df['quarter'])%2 == 1 or yard_side == home_team_name and int(play_df['quarter'])%2 == 0:\n",
    "                plt.plot(left_adj, x, color_scrimline, lw=1, zorder=3)\n",
    "#                 print(\"Scrimmage line at: \" + str([each for each in set(left_adj)]) + \" yd line.\")\n",
    "                print(\"Scrimmage line at: [\" + str(yard_line) + \"] yd line.\")\n",
    "                rel_ydline = left_adj.item(1)\n",
    "            else:\n",
    "                plt.plot(right_adj, x, color_scrimline, lw=1, zorder=3)\n",
    "#                 print(\"Scrimmage line at: \" + str([each for each in set(right_adj)]) + \" yd line.\")\n",
    "                print(\"Scrimmage line at: [\" + str(yard_line) + \"] yd line.\")\n",
    "                rel_ydline = right_adj.item(1)\n",
    "#         2nd half\n",
    "        else:\n",
    "            if yard_side == away_team_name and int(play_df['quarter'])%2 == 1 or yard_side == home_team_name and int(play_df['quarter'])%2 == 0:\n",
    "                plt.plot(right_adj, x, color_scrimline, lw=1, zorder=3)\n",
    "                print(\"Scrimmage line at: [\" + str(yard_line) + \"] yd line.\")\n",
    "            else:\n",
    "                plt.plot(left_adj, x, color_scrimline, lw=1, zorder=3)\n",
    "                print(\"Scrimmage line at: [\" + str(yard_line) + \"] yd line.\")\n",
    "    \n",
    "    # plot home & away team coordinates\n",
    "    if off_team_name == home_team_name:\n",
    "        for each in range(len(home_team_stats_on_snap)):\n",
    "            plt.scatter(home_team_stats_on_snap['x'],home_team_stats_on_snap['y'], c='red', zorder=4)\n",
    "        for each in range(len(away_team_stats_on_snap)):\n",
    "            plt.scatter(away_team_stats_on_snap['x'],away_team_stats_on_snap['y'], c='blue', zorder=4)\n",
    "    \n",
    "    elif off_team_name == away_team_name:\n",
    "        for each in range(len(home_team_stats_on_snap)):\n",
    "            plt.scatter(home_team_stats_on_snap['x'],home_team_stats_on_snap['y'], c='blue', zorder=4)\n",
    "        for each in range(len(away_team_stats_on_snap)):\n",
    "            plt.scatter(away_team_stats_on_snap['x'],away_team_stats_on_snap['y'], c='red', zorder=4)\n",
    "    \n",
    "    # plot legend\n",
    "    red_team = mpatches.Patch(color='red', label='Off: ' + off_team_name)\n",
    "    blue_team = mpatches.Patch(color='blue', label='Def: ' + def_team_name)\n",
    "    plt.legend(handles=[red_team, blue_team])\n",
    "    plt.show()"
   ]
  },
  {
   "cell_type": "code",
   "execution_count": 51,
   "metadata": {
    "scrolled": true
   },
   "outputs": [],
   "source": [
    "# mapped 20 plays, but you could map all of them if you wanted to\n",
    "def map_all(number):\n",
    "#     for i in range(len(ret_list_of_plays_of_game(game[number]['gameId'][0]))):\n",
    "    for i in range(0,20):\n",
    "        map2_play(number,i)"
   ]
  },
  {
   "cell_type": "code",
   "execution_count": 52,
   "metadata": {
    "scrolled": true
   },
   "outputs": [
    {
     "name": "stdout",
     "output_type": "stream",
     "text": [
      "\n",
      "Game# [2017090700]\n",
      "Play# [44]\n",
      "O-Formation: [n/a]\n",
      "Scrimmage line at: [35.0] yd line.\n"
     ]
    },
    {
     "data": {
      "image/png": "[encoded data removed]",
      "text/plain": [
       "<Figure size 1296x594 with 1 Axes>"
      ]
     },
     "metadata": {},
     "output_type": "display_data"
    },
    {
     "name": "stdout",
     "output_type": "stream",
     "text": [
      "\n",
      "Game# [2017090700]\n",
      "Play# [68]\n",
      "O-Formation: [Singleback]\n",
      "Scrimmage line at: [27.0] yd line.\n"
     ]
    },
    {
     "data": {
      "image/png": "[encoded data removed]",
      "text/plain": [
       "<Figure size 1296x594 with 1 Axes>"
      ]
     },
     "metadata": {},
     "output_type": "display_data"
    },
    {
     "name": "stdout",
     "output_type": "stream",
     "text": [
      "\n",
      "Game# [2017090700]\n",
      "Play# [94]\n",
      "O-Formation: [Singleback]\n",
      "Scrimmage line at: [27.0] yd line.\n"
     ]
    },
    {
     "data": {
      "image/png": "[encoded data removed]",
      "text/plain": [
       "<Figure size 1296x594 with 1 Axes>"
      ]
     },
     "metadata": {},
     "output_type": "display_data"
    },
    {
     "name": "stdout",
     "output_type": "stream",
     "text": [
      "\n",
      "Game# [2017090700]\n",
      "Play# [118]\n",
      "O-Formation: [Shotgun]\n",
      "Scrimmage line at: [35.0] yd line.\n"
     ]
    },
    {
     "data": {
      "image/png": "[encoded data removed]",
      "text/plain": [
       "<Figure size 1296x594 with 1 Axes>"
      ]
     },
     "metadata": {},
     "output_type": "display_data"
    },
    {
     "name": "stdout",
     "output_type": "stream",
     "text": [
      "\n",
      "Game# [2017090700]\n",
      "Play# [139]\n",
      "O-Formation: [Shotgun]\n",
      "Scrimmage line at: [43.0] yd line.\n"
     ]
    },
    {
     "data": {
      "image/png": "[encoded data removed]",
      "text/plain": [
       "<Figure size 1296x594 with 1 Axes>"
      ]
     },
     "metadata": {},
     "output_type": "display_data"
    },
    {
     "name": "stdout",
     "output_type": "stream",
     "text": [
      "\n",
      "Game# [2017090700]\n",
      "Play# [160]\n",
      "O-Formation: [Empty]\n",
      "Scrimmage line at: [46.0] yd line.\n"
     ]
    },
    {
     "data": {
      "image/png": "[encoded data removed]",
      "text/plain": [
       "<Figure size 1296x594 with 1 Axes>"
      ]
     },
     "metadata": {},
     "output_type": "display_data"
    },
    {
     "name": "stdout",
     "output_type": "stream",
     "text": [
      "\n",
      "Game# [2017090700]\n",
      "Play# [189]\n",
      "O-Formation: [Singleback]\n",
      "Scrimmage line at: [35.0] yd line.\n"
     ]
    },
    {
     "data": {
      "image/png": "[encoded data removed]",
      "text/plain": [
       "<Figure size 1296x594 with 1 Axes>"
      ]
     },
     "metadata": {},
     "output_type": "display_data"
    },
    {
     "name": "stdout",
     "output_type": "stream",
     "text": [
      "\n",
      "Game# [2017090700]\n",
      "Play# [210]\n",
      "O-Formation: [Empty]\n",
      "Scrimmage line at: [30.0] yd line.\n"
     ]
    },
    {
     "data": {
      "image/png": "[encoded data removed]",
      "text/plain": [
       "<Figure size 1296x594 with 1 Axes>"
      ]
     },
     "metadata": {},
     "output_type": "display_data"
    },
    {
     "name": "stdout",
     "output_type": "stream",
     "text": [
      "\n",
      "Game# [2017090700]\n",
      "Play# [309]\n",
      "O-Formation: [Jumbo]\n",
      "Scrimmage line at: [2.0] yd line.\n"
     ]
    },
    {
     "data": {
      "image/png": "[encoded data removed]",
      "text/plain": [
       "<Figure size 1296x594 with 1 Axes>"
      ]
     },
     "metadata": {},
     "output_type": "display_data"
    },
    {
     "name": "stdout",
     "output_type": "stream",
     "text": [
      "\n",
      "Game# [2017090700]\n",
      "Play# [345]\n",
      "O-Formation: [Jumbo]\n",
      "Scrimmage line at: [2.0] yd line.\n"
     ]
    },
    {
     "data": {
      "image/png": "[encoded data removed]",
      "text/plain": [
       "<Figure size 1296x594 with 1 Axes>"
      ]
     },
     "metadata": {},
     "output_type": "display_data"
    },
    {
     "name": "stdout",
     "output_type": "stream",
     "text": [
      "\n",
      "Game# [2017090700]\n",
      "Play# [364]\n",
      "O-Formation: [n/a]\n",
      "Scrimmage line at: [15.0] yd line.\n"
     ]
    },
    {
     "data": {
      "image/png": "[encoded data removed]",
      "text/plain": [
       "<Figure size 1296x594 with 1 Axes>"
      ]
     },
     "metadata": {},
     "output_type": "display_data"
    },
    {
     "name": "stdout",
     "output_type": "stream",
     "text": [
      "\n",
      "Game# [2017090700]\n",
      "Play# [380]\n",
      "O-Formation: [n/a]\n",
      "Scrimmage line at: [35.0] yd line.\n"
     ]
    },
    {
     "data": {
      "image/png": "[encoded data removed]",
      "text/plain": [
       "<Figure size 1296x594 with 1 Axes>"
      ]
     },
     "metadata": {},
     "output_type": "display_data"
    },
    {
     "name": "stdout",
     "output_type": "stream",
     "text": [
      "\n",
      "Game# [2017090700]\n",
      "Play# [395]\n",
      "O-Formation: [Shotgun]\n",
      "Scrimmage line at: [25.0] yd line.\n"
     ]
    },
    {
     "data": {
      "image/png": "[encoded data removed]",
      "text/plain": [
       "<Figure size 1296x594 with 1 Axes>"
      ]
     },
     "metadata": {},
     "output_type": "display_data"
    },
    {
     "name": "stdout",
     "output_type": "stream",
     "text": [
      "\n",
      "Game# [2017090700]\n",
      "Play# [427]\n",
      "O-Formation: [Shotgun]\n",
      "Scrimmage line at: [32.0] yd line.\n"
     ]
    },
    {
     "data": {
      "image/png": "[encoded data removed]",
      "text/plain": [
       "<Figure size 1296x594 with 1 Axes>"
      ]
     },
     "metadata": {},
     "output_type": "display_data"
    },
    {
     "name": "stdout",
     "output_type": "stream",
     "text": [
      "\n",
      "Game# [2017090700]\n",
      "Play# [449]\n",
      "O-Formation: [Empty]\n",
      "Scrimmage line at: [32.0] yd line.\n"
     ]
    },
    {
     "data": {
      "image/png": "[encoded data removed]",
      "text/plain": [
       "<Figure size 1296x594 with 1 Axes>"
      ]
     },
     "metadata": {},
     "output_type": "display_data"
    },
    {
     "name": "stdout",
     "output_type": "stream",
     "text": [
      "\n",
      "Game# [2017090700]\n",
      "Play# [473]\n",
      "O-Formation: [Shotgun]\n",
      "Scrimmage line at: [29.0] yd line.\n"
     ]
    },
    {
     "data": {
      "image/png": "[encoded data removed]",
      "text/plain": [
       "<Figure size 1296x594 with 1 Axes>"
      ]
     },
     "metadata": {},
     "output_type": "display_data"
    },
    {
     "name": "stdout",
     "output_type": "stream",
     "text": [
      "\n",
      "Game# [2017090700]\n",
      "Play# [494]\n",
      "O-Formation: [Empty]\n",
      "Scrimmage line at: [19.0] yd line.\n"
     ]
    },
    {
     "data": {
      "image/png": "[encoded data removed]",
      "text/plain": [
       "<Figure size 1296x594 with 1 Axes>"
      ]
     },
     "metadata": {},
     "output_type": "display_data"
    },
    {
     "name": "stdout",
     "output_type": "stream",
     "text": [
      "\n",
      "Game# [2017090700]\n",
      "Play# [516]\n",
      "O-Formation: [Singleback]\n",
      "Scrimmage line at: [19.0] yd line.\n"
     ]
    },
    {
     "data": {
      "image/png": "[encoded data removed]",
      "text/plain": [
       "<Figure size 1296x594 with 1 Axes>"
      ]
     },
     "metadata": {},
     "output_type": "display_data"
    },
    {
     "name": "stdout",
     "output_type": "stream",
     "text": [
      "\n",
      "Game# [2017090700]\n",
      "Play# [629]\n",
      "O-Formation: [Shotgun]\n",
      "Scrimmage line at: [15.0] yd line.\n"
     ]
    },
    {
     "data": {
      "image/png": "[encoded data removed]",
      "text/plain": [
       "<Figure size 1296x594 with 1 Axes>"
      ]
     },
     "metadata": {},
     "output_type": "display_data"
    },
    {
     "name": "stdout",
     "output_type": "stream",
     "text": [
      "\n",
      "Game# [2017090700]\n",
      "Play# [653]\n",
      "O-Formation: [Singleback]\n",
      "Scrimmage line at: [10.0] yd line.\n"
     ]
    },
    {
     "data": {
      "image/png": "[encoded data removed]",
      "text/plain": [
       "<Figure size 1296x594 with 1 Axes>"
      ]
     },
     "metadata": {},
     "output_type": "display_data"
    }
   ],
   "source": [
    "map_all(0)"
   ]
  },
  {
   "cell_type": "code",
   "execution_count": 42,
   "metadata": {},
   "outputs": [],
   "source": [
    "# 2D array of [xi(relative),yi(relative)] positions\n",
    "# changed to 1D\n",
    "def clustering_xi_yi(game_num, play_num):\n",
    "    df_offs = all_off_snaps.loc[all_off_snaps['gameId'] == game_num].loc[all_off_snaps['playId'] == play_num]\n",
    "\n",
    "    try:\n",
    "        x_mean = np.mean(df_offs['x'].values)\n",
    "        x_median = statistics.median(df_offs['x'].values)\n",
    "        y_mean = np.mean(df_offs['y'].values)\n",
    "        y_median = statistics.median(df_offs['y'].values)\n",
    "#         inp_list = []\n",
    "#         inp_list2 = []\n",
    "        x_list = []\n",
    "        y_list = []\n",
    "        if x_median > x_mean:\n",
    "            for index,row in df_offs.iterrows():\n",
    "                x_list.append(round(statistics.median(df_offs['x']) - row['x'], 2))\n",
    "        elif x_mean > x_median:\n",
    "            for index,row in df_offs.iterrows():\n",
    "                x_list.append(round(row['x'] - statistics.median(df_offs['x']), 2))\n",
    "        if y_median > y_mean:\n",
    "            for index,row in df_offs.iterrows():\n",
    "#                 y_list.append(round(maxrow['y'] - min(df_offs['y']), 2))\n",
    "                y_list.append(round(statistics.median(df_offs['y']) - row['y'], 2))\n",
    "        elif y_mean > y_median:\n",
    "            for index,row in df_offs.iterrows():\n",
    "                y_list.append(round(row['y'] - statistics.median(df_offs['y']), 2))\n",
    "\n",
    "#         inp_list2 = np.reshape(inp_list, (-1, 2))\n",
    "#         the_form = clean_plays.loc[clean_plays['gameId'] == game_num].loc[clean_plays['playId'] == play_num]['offenseFormation'].item()\n",
    "#         output = the_form\n",
    "#         if type(output) != str:\n",
    "#             return None\n",
    "        \n",
    "        # note that inp_list is a list: [x1,y1,x2,y2...]\n",
    "        if len(y_list) != 11 or len(x_list) != 11:\n",
    "            return None\n",
    "        return x_list, y_list\n",
    "        # note that inp_list2 is an array: [[x1,y1],[x2,y2]...]\n",
    "#         if len(inp_list2) != 11:\n",
    "#             return None\n",
    "#         return inp_list2, output\n",
    "    except:\n",
    "        pass"
   ]
  },
  {
   "cell_type": "code",
   "execution_count": 43,
   "metadata": {
    "scrolled": false
   },
   "outputs": [],
   "source": [
    "from sklearn.cluster import KMeans\n",
    "from sklearn.datasets import make_blobs\n",
    "import numpy as np\n",
    "import matplotlib.pyplot as plt\n",
    "\n",
    "def make_cluster(number_of_games):\n",
    "    plt.figure(figsize=(18,8.25))\n",
    "    axes = plt.gca()\n",
    "    axes.set_xlim([-10,10])\n",
    "    axes.set_ylim([-50,50])\n",
    "\n",
    "    x_arr = []\n",
    "    y_arr = []\n",
    "    arr = []\n",
    "    for each_game in ret_list_of_games()[:number_of_games]:\n",
    "        for each_play in ret_list_of_plays_of_game(each_game):\n",
    "            try:\n",
    "                x_arr.append(clustering_xi_yi(each_game, each_play)[0])\n",
    "                y_arr.append(clustering_xi_yi(each_game, each_play)[1])\n",
    "    #             arr2 = np.reshape(arr, (-1, 2))\n",
    "    #             y_arr.append(clustering_xi_yi(each_game, each_play)[1])\n",
    "    #             plt.scatter(clustering_xi_yi(each_game, each_play)[0], clustering_xi_yi(each_game, each_play)[1], c='red', zorder=4)\n",
    "            except:\n",
    "                pass\n",
    "    x_arr = list(chain(*x_arr))\n",
    "    y_arr = list(chain(*y_arr))\n",
    "\n",
    "    points = []\n",
    "    for each in range(0,len(x_arr)):\n",
    "        points.append([x_arr[each], y_arr[each]])\n",
    "\n",
    "    points = np.asarray(points)\n",
    "    plt.scatter(points[:,0], points[:,1], cmap='viridis')\n",
    "    # plt.xlim(-20,40)\n",
    "    # plt.ylim(-50,50)\n",
    "\n",
    "    # create kmeans object\n",
    "    kmeans = KMeans(n_clusters=11)\n",
    "    # fit kmeans object to data\n",
    "    kmeans.fit(points)\n",
    "    # print location of clusters learned by kmeans object\n",
    "    print('Cluster centers:')\n",
    "    print(kmeans.cluster_centers_)\n",
    "    # save new clusters for chart\n",
    "    y_km = kmeans.fit_predict(points)\n",
    "\n",
    "    plt.scatter(points[y_km==0,0], points[y_km==0,1], c='red')\n",
    "    plt.scatter(points[y_km==1,0], points[y_km==1,1], c='black')\n",
    "    plt.scatter(points[y_km==2,0], points[y_km==2,1], c='blue')\n",
    "    plt.scatter(points[y_km==3,0], points[y_km==3,1], c='cyan')\n",
    "    plt.scatter(points[y_km==4,0], points[y_km==4,1], c='purple')\n",
    "    plt.scatter(points[y_km==5,0], points[y_km==5,1], c='magenta')\n",
    "    plt.scatter(points[y_km==6,0], points[y_km==6,1], c='orange')\n",
    "    plt.scatter(points[y_km==7,0], points[y_km==7,1], c='pink')\n",
    "    plt.scatter(points[y_km==8,0], points[y_km==8,1], c='green')\n",
    "    plt.scatter(points[y_km==9,0], points[y_km==9,1], c='gray')\n",
    "    plt.scatter(points[y_km==10,0], points[y_km==10,1], c='gold')"
   ]
  },
  {
   "cell_type": "code",
   "execution_count": 44,
   "metadata": {},
   "outputs": [
    {
     "name": "stdout",
     "output_type": "stream",
     "text": [
      "Cluster centers:\n",
      "[[ -0.02208858   2.33464039]\n",
      " [  0.12044046  -8.20327896]\n",
      " [  0.03354309  19.60058824]\n",
      " [  0.33403631   9.4473324 ]\n",
      " [  0.08307403  -3.71270386]\n",
      " [  3.53395404  -0.94438193]\n",
      " [ -0.11868132 -14.52009419]\n",
      " [ -0.31043033  -0.67534153]\n",
      " [  0.32108108  12.83898649]\n",
      " [  5.52095578   0.5881883 ]\n",
      " [  0.3382854    5.39131637]]\n"
     ]
    },
    {
     "data": {
      "image/png": "[encoded data removed]",
      "text/plain": [
       "<Figure size 1296x594 with 1 Axes>"
      ]
     },
     "metadata": {},
     "output_type": "display_data"
    }
   ],
   "source": [
    "# 5 game cluster\n",
    "# --- 8.12437796592712 seconds ---\n",
    "make_cluster(10)"
   ]
  },
  {
   "cell_type": "code",
   "execution_count": 45,
   "metadata": {
    "scrolled": false
   },
   "outputs": [
    {
     "name": "stdout",
     "output_type": "stream",
     "text": [
      "Cluster centers:\n",
      "[[ -0.03061273   2.3371534 ]\n",
      " [  0.04076849  19.50271863]\n",
      " [  0.03132811  -8.09472387]\n",
      " [  0.25394545   9.21940737]\n",
      " [  0.06804007  -3.7403623 ]\n",
      " [  4.38106048   0.32462559]\n",
      " [ -0.14519686 -14.59278278]\n",
      " [ -0.30721277  -0.68213795]\n",
      " [  0.28739814  12.67858157]\n",
      " [  0.30716557   5.34353219]\n",
      " [  3.62143914  -2.46002325]]\n"
     ]
    },
    {
     "data": {
      "image/png": "[encoded data removed]",
      "text/plain": [
       "<Figure size 1296x594 with 1 Axes>"
      ]
     },
     "metadata": {},
     "output_type": "display_data"
    }
   ],
   "source": [
    "# 91 game cluster\n",
    "# --- 76.73480582237244 seconds ---\n",
    "make_cluster(len(ret_list_of_games()))"
   ]
  },
  {
   "cell_type": "code",
   "execution_count": 46,
   "metadata": {},
   "outputs": [],
   "source": [
    "# import hierarchical clustering libraries\n",
    "import scipy.cluster.hierarchy as sch\n",
    "from sklearn.cluster import AgglomerativeClustering\n",
    "\n",
    "def make_hierarchy(number_of_games):\n",
    "    x_arr = []\n",
    "    y_arr = []\n",
    "    arr = []\n",
    "    for each_game in ret_list_of_games()[:number_of_games]:\n",
    "        for each_play in ret_list_of_plays_of_game(each_game):\n",
    "            try:\n",
    "                x_arr.append(clustering_xi_yi(each_game, each_play)[0])\n",
    "                y_arr.append(clustering_xi_yi(each_game, each_play)[1])\n",
    "    #             arr2 = np.reshape(arr, (-1, 2))\n",
    "    #             y_arr.append(clustering_xi_yi(each_game, each_play)[1])\n",
    "    #             plt.scatter(clustering_xi_yi(each_game, each_play)[0], clustering_xi_yi(each_game, each_play)[1], c='red', zorder=4)\n",
    "            except:\n",
    "                pass\n",
    "    x_arr = list(chain(*x_arr))\n",
    "    y_arr = list(chain(*y_arr))\n",
    "\n",
    "    points = []\n",
    "    for each in range(0,len(x_arr)):\n",
    "        points.append([x_arr[each], y_arr[each]])\n",
    "\n",
    "    points = np.asarray(points)\n",
    "    \n",
    "    plt.figure(2)\n",
    "    plt.figure(figsize=(18,8.25))\n",
    "    axes = plt.gca()\n",
    "    axes.set_xlim([-10,10])\n",
    "    axes.set_ylim([-50,50])\n",
    "    # create dendrogram\n",
    "    dendrogram = sch.dendrogram(sch.linkage(points, method='ward'))\n",
    "    # create clusters\n",
    "    hc = AgglomerativeClustering(n_clusters=11, affinity = 'euclidean', linkage = 'ward')\n",
    "    # save clusters for chart\n",
    "    y_hc = hc.fit_predict(points)\n",
    "    \n",
    "    plt.figure(3)\n",
    "    plt.figure(figsize=(18,8.25))\n",
    "    axes = plt.gca()\n",
    "    axes.set_xlim([-10,10])\n",
    "    axes.set_ylim([-50,50])\n",
    "    \n",
    "    plt.scatter(points[y_hc==0,0], points[y_hc==0,1], c='red')\n",
    "    plt.scatter(points[y_hc==1,0], points[y_hc==1,1], c='black')\n",
    "    plt.scatter(points[y_hc==2,0], points[y_hc==2,1], c='blue')\n",
    "    plt.scatter(points[y_hc==3,0], points[y_hc==3,1], c='cyan')\n",
    "    plt.scatter(points[y_hc==4,0], points[y_hc==4,1], c='purple')\n",
    "    plt.scatter(points[y_hc==5,0], points[y_hc==5,1], c='magenta')\n",
    "    plt.scatter(points[y_hc==6,0], points[y_hc==6,1], c='orange')\n",
    "    plt.scatter(points[y_hc==7,0], points[y_hc==7,1], c='pink')\n",
    "    plt.scatter(points[y_hc==8,0], points[y_hc==8,1], c='green')\n",
    "    plt.scatter(points[y_hc==9,0], points[y_hc==9,1], c='yellow')\n",
    "    plt.scatter(points[y_hc==10,0], points[y_hc==10,1], c='gold')"
   ]
  },
  {
   "cell_type": "code",
   "execution_count": 49,
   "metadata": {},
   "outputs": [
    {
     "data": {
      "text/plain": [
       "34.0770947933197"
      ]
     },
     "execution_count": 49,
     "metadata": {},
     "output_type": "execute_result"
    },
    {
     "data": {
      "text/plain": [
       "<Figure size 432x288 with 0 Axes>"
      ]
     },
     "metadata": {},
     "output_type": "display_data"
    },
    {
     "data": {
      "image/png": "[encoded data removed]",
      "text/plain": [
       "<Figure size 1296x594 with 1 Axes>"
      ]
     },
     "metadata": {},
     "output_type": "display_data"
    },
    {
     "data": {
      "image/png": "[encoded data removed]",
      "text/plain": [
       "<Figure size 1296x594 with 1 Axes>"
      ]
     },
     "metadata": {},
     "output_type": "display_data"
    }
   ],
   "source": [
    "# CAUTION!! VERY COMPUTATIONALLY EXPENSIVE AND CRASHED MY COMPUTER WHEN I TRIED TO MAKE IT RUN OVER 91 GAMES.\n",
    "# Honestly this was a little unneeded so no need to rerun this cell.\n",
    "make_hierarchy(12)"
   ]
  },
  {
   "cell_type": "code",
   "execution_count": null,
   "metadata": {},
   "outputs": [],
   "source": []
  },
  {
   "cell_type": "code",
   "execution_count": null,
   "metadata": {},
   "outputs": [],
   "source": []
  }
 ],
 "metadata": {
  "kernelspec": {
   "display_name": "Python 3",
   "language": "python",
   "name": "python3"
  },
  "language_info": {
   "codemirror_mode": {
    "name": "ipython",
    "version": 3
   },
   "file_extension": ".py",
   "mimetype": "text/x-python",
   "name": "python",
   "nbconvert_exporter": "python",
   "pygments_lexer": "ipython3",
   "version": "3.6.5"
  },
  "widgets": {
   "application/vnd.jupyter.widget-state+json": {
    "state": {},
    "version_major": 2,
    "version_minor": 0
   }
  }
 },
 "nbformat": 4,
 "nbformat_minor": 2
}
