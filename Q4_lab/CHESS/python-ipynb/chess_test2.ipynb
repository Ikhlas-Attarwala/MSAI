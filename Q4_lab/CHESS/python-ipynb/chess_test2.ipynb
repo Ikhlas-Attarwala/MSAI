{
 "cells": [
  {
   "cell_type": "code",
   "execution_count": 59,
   "metadata": {},
   "outputs": [],
   "source": [
    "import argparse\n",
    "import json\n",
    "from pprint import pprint"
   ]
  },
  {
   "cell_type": "code",
   "execution_count": 149,
   "metadata": {},
   "outputs": [],
   "source": [
    "# creating chessboard\n",
    "BOARD = [[1] * 8 for i in range(8)]"
   ]
  },
  {
   "cell_type": "code",
   "execution_count": 158,
   "metadata": {},
   "outputs": [
    {
     "data": {
      "text/plain": [
       "[[1, 1, 1, 1, 1, 1, 1, 1],\n",
       " [1, 1, 1, 1, 1, 1, 1, 1],\n",
       " [1, 1, 1, 1, 1, 1, 1, 1],\n",
       " [1, 1, 1, 1, 1, 1, 1, 1],\n",
       " [1, 1, 1, 1, 1, 1, 1, 1],\n",
       " [1, 1, 1, 1, 1, 1, 1, 1],\n",
       " [1, 1, 1, 1, 1, 1, 1, 1],\n",
       " [1, 1, 1, 1, 1, 1, 1, 1]]"
      ]
     },
     "execution_count": 158,
     "metadata": {},
     "output_type": "execute_result"
    }
   ],
   "source": [
    "BOARD"
   ]
  },
  {
   "cell_type": "code",
   "execution_count": 151,
   "metadata": {},
   "outputs": [],
   "source": [
    "# creating conversion\n",
    "a_n = {\"a\": 0, \"b\": 1, \"c\": 2, \"d\": 3,\n",
    "       \"e\": 4, \"f\": 5, \"g\": 6, \"h\": 7}\n",
    "# inverse\n",
    "n_a = {j:i for i,j in a_n.items()}"
   ]
  },
  {
   "cell_type": "code",
   "execution_count": 152,
   "metadata": {},
   "outputs": [],
   "source": [
    "def ROOK_avail(pos, BOARD):\n",
    "    pos = pos.strip().lower()\n",
    "#     col,row = list(pos)\n",
    "    col,row = pos\n",
    "    row = int(row) - 1\n",
    "    col = a_n[col]\n",
    "    i,j = row,col\n",
    "    possibles = []\n",
    "    \n",
    "    for i in range(8):\n",
    "        if i != row:\n",
    "            possibles.append((i, col))\n",
    "    for j in range(8):\n",
    "        if j != col:\n",
    "            possibles.append((row, j))\n",
    "    \n",
    "    possibles = [\"\".join([n_a[i[1]], str(i[0] + 1)]) for i in possibles]\n",
    "    possibles.sort()\n",
    "    return possibles"
   ]
  },
  {
   "cell_type": "code",
   "execution_count": 153,
   "metadata": {},
   "outputs": [
    {
     "name": "stdout",
     "output_type": "stream",
     "text": [
      "['a2', 'a3', 'a4', 'a5', 'a6', 'a7', 'a8', 'b1', 'c1', 'd1', 'e1', 'f1', 'g1', 'h1']\n"
     ]
    }
   ],
   "source": [
    "print(ROOK_avail('a1', BOARD))"
   ]
  },
  {
   "cell_type": "code",
   "execution_count": 154,
   "metadata": {},
   "outputs": [],
   "source": [
    "def KNIGHT_avail(pos, BOARD):\n",
    "    pos = pos.strip().lower()\n",
    "    row = int(pos[-1]) - 1\n",
    "    col = a_n[pos[0]]\n",
    "    i,j = row,col\n",
    "    possibles = []\n",
    "    \n",
    "    try:\n",
    "        temp = BOARD[i+1][j-2]\n",
    "        possibles.append([i+1,j-2])\n",
    "    except: pass\n",
    "    return possibles"
   ]
  },
  {
   "cell_type": "code",
   "execution_count": 155,
   "metadata": {},
   "outputs": [
    {
     "data": {
      "text/plain": [
       "[[1, -2]]"
      ]
     },
     "execution_count": 155,
     "metadata": {},
     "output_type": "execute_result"
    }
   ],
   "source": [
    "KNIGHT_avail('a1', BOARD)"
   ]
  },
  {
   "cell_type": "code",
   "execution_count": 156,
   "metadata": {},
   "outputs": [
    {
     "name": "stdout",
     "output_type": "stream",
     "text": [
      "a\n",
      "4\n"
     ]
    }
   ],
   "source": [
    "i,j = list('a4')\n",
    "print(i)\n",
    "print(j)"
   ]
  },
  {
   "cell_type": "code",
   "execution_count": null,
   "metadata": {},
   "outputs": [],
   "source": []
  }
 ],
 "metadata": {
  "kernelspec": {
   "display_name": "Python 3",
   "language": "python",
   "name": "python3"
  },
  "language_info": {
   "codemirror_mode": {
    "name": "ipython",
    "version": 3
   },
   "file_extension": ".py",
   "mimetype": "text/x-python",
   "name": "python",
   "nbconvert_exporter": "python",
   "pygments_lexer": "ipython3",
   "version": "3.6.5"
  }
 },
 "nbformat": 4,
 "nbformat_minor": 2
}
