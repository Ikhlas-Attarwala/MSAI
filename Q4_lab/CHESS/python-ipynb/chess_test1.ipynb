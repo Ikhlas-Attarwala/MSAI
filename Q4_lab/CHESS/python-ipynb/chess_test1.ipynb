{
 "cells": [
  {
   "cell_type": "code",
   "execution_count": 2,
   "metadata": {},
   "outputs": [],
   "source": [
    "# IMPORTS\n",
    "import argparse\n",
    "import json"
   ]
  },
  {
   "cell_type": "code",
   "execution_count": 3,
   "metadata": {},
   "outputs": [],
   "source": [
    "# Chronological moveset for Caruana vs Carlsen, World Championship 2018\n",
    "# moveset goes: ('first pos', 'second pos')\n",
    "\n",
    "## moveset for white\n",
    "p1 = [('e2','e4'), ('g1','f3'), ('f1','b5')]\n",
    "## moveset for black\n",
    "p2 = [('c7','c5'), ('b8','c6'), ('g7','g6')]"
   ]
  },
  {
   "cell_type": "code",
   "execution_count": 72,
   "metadata": {},
   "outputs": [
    {
     "data": {
      "text/plain": [
       "[('e2', 'e4'),\n",
       " ('c7', 'c5'),\n",
       " ('g1', 'f3'),\n",
       " ('b8', 'c6'),\n",
       " ('f1', 'b5'),\n",
       " ('g7', 'g6')]"
      ]
     },
     "execution_count": 72,
     "metadata": {},
     "output_type": "execute_result"
    }
   ],
   "source": [
    "full_game = []\n",
    "if len(p1) >= len(p2):\n",
    "    for i in range(0,len(p1)):\n",
    "        try: full_game.append(p1[i])\n",
    "        except: pass\n",
    "        try: full_game.append(p2[i])\n",
    "        except: pass\n",
    "else:\n",
    "    for i in range(0,len(p2)):\n",
    "        try: full_game.append(p1[i])\n",
    "        except: pass\n",
    "        try: full_game.append(p2[i])\n",
    "        except: pass\n",
    "full_game"
   ]
  },
  {
   "cell_type": "code",
   "execution_count": 52,
   "metadata": {},
   "outputs": [],
   "source": [
    "y1 = []\n",
    "y2 = []\n",
    "for i in range(0,len(x)):\n",
    "    if i % 2 == 0:\n",
    "        y1.append(x[i])\n",
    "    elif i % 2 == 1:\n",
    "        y2.append(x[i])"
   ]
  },
  {
   "cell_type": "code",
   "execution_count": 53,
   "metadata": {},
   "outputs": [
    {
     "data": {
      "text/plain": [
       "[('e2', 'e4'), ('g1', 'f3'), ('f1', 'b5')]"
      ]
     },
     "execution_count": 53,
     "metadata": {},
     "output_type": "execute_result"
    }
   ],
   "source": [
    "y1"
   ]
  },
  {
   "cell_type": "code",
   "execution_count": 54,
   "metadata": {
    "scrolled": true
   },
   "outputs": [
    {
     "data": {
      "text/plain": [
       "[('c7', 'c5'), ('b8', 'c6'), ('g7', 'g6')]"
      ]
     },
     "execution_count": 54,
     "metadata": {},
     "output_type": "execute_result"
    }
   ],
   "source": [
    "y2"
   ]
  },
  {
   "cell_type": "code",
   "execution_count": null,
   "metadata": {},
   "outputs": [],
   "source": []
  }
 ],
 "metadata": {
  "kernelspec": {
   "display_name": "Python 3",
   "language": "python",
   "name": "python3"
  },
  "language_info": {
   "codemirror_mode": {
    "name": "ipython",
    "version": 3
   },
   "file_extension": ".py",
   "mimetype": "text/x-python",
   "name": "python",
   "nbconvert_exporter": "python",
   "pygments_lexer": "ipython3",
   "version": "3.6.5"
  }
 },
 "nbformat": 4,
 "nbformat_minor": 2
}
