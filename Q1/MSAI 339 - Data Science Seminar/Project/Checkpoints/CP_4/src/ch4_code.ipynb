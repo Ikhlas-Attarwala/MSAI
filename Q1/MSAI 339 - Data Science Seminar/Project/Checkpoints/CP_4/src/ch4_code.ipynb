{
 "cells": [
  {
   "cell_type": "code",
   "execution_count": 1,
   "metadata": {},
   "outputs": [
    {
     "data": {
      "text/html": [
       "<style scoped>\n",
       "  .ansiout {\n",
       "    display: block;\n",
       "    unicode-bidi: embed;\n",
       "    white-space: pre-wrap;\n",
       "    word-wrap: break-word;\n",
       "    word-break: break-all;\n",
       "    font-family: \"Source Code Pro\", \"Menlo\", monospace;;\n",
       "    font-size: 13px;\n",
       "    color: #555;\n",
       "    margin-left: 4px;\n",
       "    line-height: 19px;\n",
       "  }\n",
       "</style>\n",
       "<div class=\"ansiout\"></div>"
      ]
     },
     "metadata": {},
     "output_type": "display_data"
    }
   ],
   "source": [
    "from pyspark.sql import *\n",
    "from pyspark.ml.stat import Correlation\n",
    "from pyspark.sql.functions import unix_timestamp, from_unixtime, date_format, col, when\n",
    "from pyspark.ml import Pipeline\n",
    "from pyspark.ml.classification import RandomForestClassifier\n",
    "from pyspark.ml.feature import IndexToString, StringIndexer, VectorIndexer, OneHotEncoder, Bucketizer\n",
    "from pyspark.ml.evaluation import MulticlassClassificationEvaluator\n",
    "from pyspark.ml.linalg import Vectors\n",
    "from pyspark.ml.feature import VectorAssembler"
   ]
  },
  {
   "cell_type": "code",
   "execution_count": 2,
   "metadata": {},
   "outputs": [
    {
     "data": {
      "text/html": [
       "<style scoped>\n",
       "  .ansiout {\n",
       "    display: block;\n",
       "    unicode-bidi: embed;\n",
       "    white-space: pre-wrap;\n",
       "    word-wrap: break-word;\n",
       "    word-break: break-all;\n",
       "    font-family: \"Source Code Pro\", \"Menlo\", monospace;;\n",
       "    font-size: 13px;\n",
       "    color: #555;\n",
       "    margin-left: 4px;\n",
       "    line-height: 19px;\n",
       "  }\n",
       "</style>\n",
       "<div class=\"ansiout\"></div>"
      ]
     },
     "metadata": {},
     "output_type": "display_data"
    }
   ],
   "source": [
    "allegations = spark.sql(\"select distinct(ID) as Allegation, add2 as Address, incident_date as Date, is_officer_complaint as IsOfficerComplaint from allegations where incident_date >= '2001-01-01'\")\n",
    "\n",
    "categories = spark.sql(\"Select * from a_category\")\n",
    "connection = spark.sql(\"select allegation_id as Allegation, allegation_category_id as id from officer_allegation_csv\")\n",
    "\n",
    "allegations = allegations.join(connection, \"Allegation\").join(categories, \"id\").drop(\"id\")\n",
    "encoded = spark.sql(\"select * from encoded_allegations\").drop(\"Address\").drop(\"Date\")\n",
    "df = allegations.join(encoded, \"Allegation\", how=\"left\").drop_duplicates([\"Allegation\"]).na.fill(0).drop(\"Allegation\",\"subcategory\")\n",
    "sal = spark.sql(\"select officer_id as Officer, salary as Salary from salary_csv\")\n",
    "oa = spark.sql(\"select allegation_id as Allegation, officer_id as Officer, disciplined from officer_allegation_csv\").join(connection,\"Allegation\").join(categories,\"id\")\n",
    "officers = spark.sql(\"select id as Officer, rank, complaint_percentile as ComplaintPercentile from data_officer_csv\")\n"
   ]
  },
  {
   "cell_type": "code",
   "execution_count": 3,
   "metadata": {},
   "outputs": [
    {
     "data": {
      "text/html": [
       "<style scoped>\n",
       "  .ansiout {\n",
       "    display: block;\n",
       "    unicode-bidi: embed;\n",
       "    white-space: pre-wrap;\n",
       "    word-wrap: break-word;\n",
       "    word-break: break-all;\n",
       "    font-family: \"Source Code Pro\", \"Menlo\", monospace;;\n",
       "    font-size: 13px;\n",
       "    color: #555;\n",
       "    margin-left: 4px;\n",
       "    line-height: 19px;\n",
       "  }\n",
       "</style>\n",
       "<div class=\"ansiout\">Test Error = 0.646915\n",
       "</div>"
      ]
     },
     "metadata": {},
     "output_type": "display_data"
    }
   ],
   "source": [
    "#Use Random Forest Classifier for Allegation Category\n",
    "assembler = VectorAssembler(inputCols=[\"IsOfficerComplaint\",\"ARSON\",\"ASSAULT\",\"BATTERY\",\"BURGLARY\",\"CRIM SEXUAL ASSAULT\", \"CRIMINAL DAMAGE\", \"CRIMINAL TRESPASS\", \"DECEPTIVE PRACTICE\", \"GAMBLING\", \"INTERFERENCE WITH PUBLIC OFFICER\", \"KIDNAPPING\", \"LIQUOR LAW VIOLATION\", \"MOTOR VEHICLE THEFT\", \"NARCOTICS\", \"OFFENSE INVOLVING CHILDREN\", \"OTHER OFFENSE\", \"PROSTITUTION\", \"PUBLIC PEACE VIOLATION\", \"ROBBERY\", \"SEX OFFENSE\", \"STALKING\", \"THEFT\", \"WEAPONS VIOLATION\"],outputCol=\"features\")\n",
    "output = assembler.transform(dt)\n",
    "featureIndexer = VectorIndexer(inputCol=\"features\", outputCol=\"indexedFeatures\", maxCategories=4).fit(output)\n",
    "(trainingData, testData) = output.randomSplit([0.7, 0.3])\n",
    "labelIndexer = StringIndexer(inputCol=\"category\", outputCol=\"indexedCategory\").fit(output)\n",
    "rf = RandomForestClassifier(labelCol=\"indexedCategory\", featuresCol=\"indexedFeatures\", numTrees=10)\n",
    "labelConverter = IndexToString(inputCol=\"prediction\", outputCol=\"predictedLabel\",labels=labelIndexer.labels)\n",
    "pipeline = Pipeline(stages=[labelIndexer, featureIndexer, rf, labelConverter])\n",
    "model = pipeline.fit(trainingData)\n",
    "predictions = model.transform(testData)\n",
    "evaluator = MulticlassClassificationEvaluator(labelCol=\"indexedCategory\", predictionCol=\"prediction\", metricName=\"accuracy\")\n",
    "accuracy = evaluator.evaluate(predictions)\n",
    "print(\"Test Error = %g\" % (1.0 - accuracy))"
   ]
  },
  {
   "cell_type": "code",
   "execution_count": 4,
   "metadata": {},
   "outputs": [
    {
     "data": {
      "text/html": [
       "<style scoped>\n",
       "  .ansiout {\n",
       "    display: block;\n",
       "    unicode-bidi: embed;\n",
       "    white-space: pre-wrap;\n",
       "    word-wrap: break-word;\n",
       "    word-break: break-all;\n",
       "    font-family: \"Source Code Pro\", \"Menlo\", monospace;;\n",
       "    font-size: 13px;\n",
       "    color: #555;\n",
       "    margin-left: 4px;\n",
       "    line-height: 19px;\n",
       "  }\n",
       "</style>\n",
       "<div class=\"ansiout\"></div>"
      ]
     },
     "metadata": {},
     "output_type": "display_data"
    }
   ],
   "source": [
    "splits = [-float(\"inf\"),50000,52500,55000,57500,60000,62500,65000,67500,70000,72500,75000,77500,80000,82500,85000,87500,90000,95000,100000,110000,120000,130000,140000,150000, 160000,170000,180000,float(\"inf\")]\n",
    "bucketizer = Bucketizer(splits=splits, inputCol=\"Salary\", outputCol=\"SalaryBin\")\n",
    "bucketSalary = bucketizer.transform(sal)\n",
    "dk = oa.join(bucketSalary, \"Officer\").join(officers, \"Officer\").drop_duplicates([\"Allegation\"]).dropna()\n",
    "categoryIndexer = StringIndexer(inputCol=\"category\", outputCol=\"indexedCategory\").fit(dk)\n",
    "subcategoryIndexer = StringIndexer(inputCol=\"subcategory\", outputCol=\"indexedSubcategory\").fit(dk)\n",
    "rankIndexer = StringIndexer(inputCol=\"rank\", outputCol=\"indexedRank\").fit(dk)\n",
    "CategoricalPipeline = Pipeline(stages=[categoryIndexer, subcategoryIndexer,rankIndexer])\n",
    "model = CategoricalPipeline.fit(dk)\n",
    "output = model.transform(dk)\n"
   ]
  },
  {
   "cell_type": "code",
   "execution_count": 5,
   "metadata": {},
   "outputs": [
    {
     "data": {
      "text/html": [
       "<style scoped>\n",
       "  .ansiout {\n",
       "    display: block;\n",
       "    unicode-bidi: embed;\n",
       "    white-space: pre-wrap;\n",
       "    word-wrap: break-word;\n",
       "    word-break: break-all;\n",
       "    font-family: \"Source Code Pro\", \"Menlo\", monospace;;\n",
       "    font-size: 13px;\n",
       "    color: #555;\n",
       "    margin-left: 4px;\n",
       "    line-height: 19px;\n",
       "  }\n",
       "</style>\n",
       "<div class=\"ansiout\">Test Error = 0.569487\n",
       "</div>"
      ]
     },
     "metadata": {},
     "output_type": "display_data"
    }
   ],
   "source": [
    "assembler = VectorAssembler(inputCols=[\"indexedCategory\",\"disciplined\",\"indexedRank\",\"ComplaintPercentile\"],outputCol=\"features\")\n",
    "out2 = assembler.transform(output)\n",
    "data = out2.drop(\"Officer\",\"id\",\"Allegation\",\"category\",\"subcategory\",\"Salary\",\"rank\")\n",
    "(trainingData, testData) = data.randomSplit([0.7, 0.3])\n",
    "featureIndexer = VectorIndexer(inputCol=\"features\", outputCol=\"indexedFeatures\", maxCategories=30).fit(data)\n",
    "rf = RandomForestClassifier(labelCol=\"SalaryBin\", featuresCol=\"features\",numTrees=10)\n",
    "pipe = Pipeline(stages=[featureIndexer,rf])\n",
    "salary_model = pipe.fit(trainingData)\n",
    "predictions = salary_model.transform(testData)\n",
    "evaluator = MulticlassClassificationEvaluator(labelCol=\"SalaryBin\", predictionCol=\"prediction\", metricName=\"accuracy\")\n",
    "accuracy = evaluator.evaluate(predictions)\n",
    "print(\"Test Error = %g\" % (1.0 - accuracy))\n",
    "\n"
   ]
  },
  {
   "cell_type": "code",
   "execution_count": 6,
   "metadata": {},
   "outputs": [],
   "source": []
  }
 ],
 "metadata": {
  "kernelspec": {
   "display_name": "Python 3",
   "language": "python",
   "name": "python3"
  },
  "language_info": {
   "codemirror_mode": {
    "name": "ipython",
    "version": 3
   },
   "file_extension": ".py",
   "mimetype": "text/x-python",
   "name": "python",
   "nbconvert_exporter": "python",
   "pygments_lexer": "ipython3",
   "version": "3.6.5"
  },
  "name": "Checkpoint4",
  "notebookId": 16329696941187
 },
 "nbformat": 4,
 "nbformat_minor": 1
}
